{
 "cells": [
  {
   "cell_type": "code",
   "execution_count": 1,
   "id": "1e5129e0",
   "metadata": {
    "_cell_guid": "b1076dfc-b9ad-4769-8c92-a6c4dae69d19",
    "_uuid": "8f2839f25d086af736a60e9eeb907d3b93b6e0e5",
    "execution": {
     "iopub.execute_input": "2022-03-02T22:35:55.364713Z",
     "iopub.status.busy": "2022-03-02T22:35:55.362927Z",
     "iopub.status.idle": "2022-03-02T22:35:55.378371Z",
     "shell.execute_reply": "2022-03-02T22:35:55.379803Z",
     "shell.execute_reply.started": "2022-03-02T21:47:25.816278Z"
    },
    "papermill": {
     "duration": 0.077044,
     "end_time": "2022-03-02T22:35:55.380510",
     "exception": false,
     "start_time": "2022-03-02T22:35:55.303466",
     "status": "completed"
    },
    "tags": []
   },
   "outputs": [
    {
     "name": "stdout",
     "output_type": "stream",
     "text": [
      "/kaggle/input/fake-news/submit.csv\n",
      "/kaggle/input/fake-news/train.csv\n",
      "/kaggle/input/fake-news/test.csv\n"
     ]
    }
   ],
   "source": [
    "# This Python 3 environment comes with many helpful analytics libraries installed\n",
    "# It is defined by the kaggle/python Docker image: https://github.com/kaggle/docker-python\n",
    "# For example, here's several helpful packages to load\n",
    "\n",
    "import numpy as np # linear algebra\n",
    "import pandas as pd # data processing, CSV file I/O (e.g. pd.read_csv)\n",
    "\n",
    "# Input data files are available in the read-only \"../input/\" directory\n",
    "# For example, running this (by clicking run or pressing Shift+Enter) will list all files under the input directory\n",
    "\n",
    "import os\n",
    "for dirname, _, filenames in os.walk('/kaggle/input'):\n",
    "    for filename in filenames:\n",
    "        print(os.path.join(dirname, filename))\n",
    "\n",
    "# You can write up to 20GB to the current directory (/kaggle/working/) that gets preserved as output when you create a version using \"Save & Run All\" \n",
    "# You can also write temporary files to /kaggle/temp/, but they won't be saved outside of the current session"
   ]
  },
  {
   "cell_type": "code",
   "execution_count": 2,
   "id": "66e7014a",
   "metadata": {
    "execution": {
     "iopub.execute_input": "2022-03-02T22:35:55.510075Z",
     "iopub.status.busy": "2022-03-02T22:35:55.509372Z",
     "iopub.status.idle": "2022-03-02T22:35:55.514320Z",
     "shell.execute_reply": "2022-03-02T22:35:55.515359Z",
     "shell.execute_reply.started": "2022-03-02T21:47:48.793173Z"
    },
    "papermill": {
     "duration": 0.067905,
     "end_time": "2022-03-02T22:35:55.515630",
     "exception": false,
     "start_time": "2022-03-02T22:35:55.447725",
     "status": "completed"
    },
    "tags": []
   },
   "outputs": [],
   "source": [
    "import pandas as pd\n",
    "import numpy as np"
   ]
  },
  {
   "cell_type": "code",
   "execution_count": 3,
   "id": "e8a3d894",
   "metadata": {
    "execution": {
     "iopub.execute_input": "2022-03-02T22:35:55.622703Z",
     "iopub.status.busy": "2022-03-02T22:35:55.621906Z",
     "iopub.status.idle": "2022-03-02T22:35:58.834986Z",
     "shell.execute_reply": "2022-03-02T22:35:58.835711Z",
     "shell.execute_reply.started": "2022-03-02T21:49:20.183773Z"
    },
    "papermill": {
     "duration": 3.265968,
     "end_time": "2022-03-02T22:35:58.835958",
     "exception": false,
     "start_time": "2022-03-02T22:35:55.569990",
     "status": "completed"
    },
    "tags": []
   },
   "outputs": [],
   "source": [
    "df = pd.read_csv('/kaggle/input/fake-news/train.csv')"
   ]
  },
  {
   "cell_type": "code",
   "execution_count": 4,
   "id": "6e657f61",
   "metadata": {
    "execution": {
     "iopub.execute_input": "2022-03-02T22:35:58.944787Z",
     "iopub.status.busy": "2022-03-02T22:35:58.943770Z",
     "iopub.status.idle": "2022-03-02T22:35:58.960361Z",
     "shell.execute_reply": "2022-03-02T22:35:58.961170Z",
     "shell.execute_reply.started": "2022-03-02T21:49:30.032176Z"
    },
    "papermill": {
     "duration": 0.076515,
     "end_time": "2022-03-02T22:35:58.961473",
     "exception": false,
     "start_time": "2022-03-02T22:35:58.884958",
     "status": "completed"
    },
    "tags": []
   },
   "outputs": [
    {
     "data": {
      "text/html": [
       "<div>\n",
       "<style scoped>\n",
       "    .dataframe tbody tr th:only-of-type {\n",
       "        vertical-align: middle;\n",
       "    }\n",
       "\n",
       "    .dataframe tbody tr th {\n",
       "        vertical-align: top;\n",
       "    }\n",
       "\n",
       "    .dataframe thead th {\n",
       "        text-align: right;\n",
       "    }\n",
       "</style>\n",
       "<table border=\"1\" class=\"dataframe\">\n",
       "  <thead>\n",
       "    <tr style=\"text-align: right;\">\n",
       "      <th></th>\n",
       "      <th>id</th>\n",
       "      <th>title</th>\n",
       "      <th>author</th>\n",
       "      <th>text</th>\n",
       "      <th>label</th>\n",
       "    </tr>\n",
       "  </thead>\n",
       "  <tbody>\n",
       "    <tr>\n",
       "      <th>0</th>\n",
       "      <td>0</td>\n",
       "      <td>House Dem Aide: We Didn’t Even See Comey’s Let...</td>\n",
       "      <td>Darrell Lucus</td>\n",
       "      <td>House Dem Aide: We Didn’t Even See Comey’s Let...</td>\n",
       "      <td>1</td>\n",
       "    </tr>\n",
       "    <tr>\n",
       "      <th>1</th>\n",
       "      <td>1</td>\n",
       "      <td>FLYNN: Hillary Clinton, Big Woman on Campus - ...</td>\n",
       "      <td>Daniel J. Flynn</td>\n",
       "      <td>Ever get the feeling your life circles the rou...</td>\n",
       "      <td>0</td>\n",
       "    </tr>\n",
       "    <tr>\n",
       "      <th>2</th>\n",
       "      <td>2</td>\n",
       "      <td>Why the Truth Might Get You Fired</td>\n",
       "      <td>Consortiumnews.com</td>\n",
       "      <td>Why the Truth Might Get You Fired October 29, ...</td>\n",
       "      <td>1</td>\n",
       "    </tr>\n",
       "    <tr>\n",
       "      <th>3</th>\n",
       "      <td>3</td>\n",
       "      <td>15 Civilians Killed In Single US Airstrike Hav...</td>\n",
       "      <td>Jessica Purkiss</td>\n",
       "      <td>Videos 15 Civilians Killed In Single US Airstr...</td>\n",
       "      <td>1</td>\n",
       "    </tr>\n",
       "    <tr>\n",
       "      <th>4</th>\n",
       "      <td>4</td>\n",
       "      <td>Iranian woman jailed for fictional unpublished...</td>\n",
       "      <td>Howard Portnoy</td>\n",
       "      <td>Print \\nAn Iranian woman has been sentenced to...</td>\n",
       "      <td>1</td>\n",
       "    </tr>\n",
       "  </tbody>\n",
       "</table>\n",
       "</div>"
      ],
      "text/plain": [
       "   id                                              title              author  \\\n",
       "0   0  House Dem Aide: We Didn’t Even See Comey’s Let...       Darrell Lucus   \n",
       "1   1  FLYNN: Hillary Clinton, Big Woman on Campus - ...     Daniel J. Flynn   \n",
       "2   2                  Why the Truth Might Get You Fired  Consortiumnews.com   \n",
       "3   3  15 Civilians Killed In Single US Airstrike Hav...     Jessica Purkiss   \n",
       "4   4  Iranian woman jailed for fictional unpublished...      Howard Portnoy   \n",
       "\n",
       "                                                text  label  \n",
       "0  House Dem Aide: We Didn’t Even See Comey’s Let...      1  \n",
       "1  Ever get the feeling your life circles the rou...      0  \n",
       "2  Why the Truth Might Get You Fired October 29, ...      1  \n",
       "3  Videos 15 Civilians Killed In Single US Airstr...      1  \n",
       "4  Print \\nAn Iranian woman has been sentenced to...      1  "
      ]
     },
     "execution_count": 4,
     "metadata": {},
     "output_type": "execute_result"
    }
   ],
   "source": [
    "df.head()"
   ]
  },
  {
   "cell_type": "markdown",
   "id": "f86aa987",
   "metadata": {
    "papermill": {
     "duration": 0.053712,
     "end_time": "2022-03-02T22:35:59.065738",
     "exception": false,
     "start_time": "2022-03-02T22:35:59.012026",
     "status": "completed"
    },
    "tags": []
   },
   "source": [
    "***WE Will try only with title and in second we will try both***"
   ]
  },
  {
   "cell_type": "code",
   "execution_count": 5,
   "id": "916996bb",
   "metadata": {
    "execution": {
     "iopub.execute_input": "2022-03-02T22:35:59.188027Z",
     "iopub.status.busy": "2022-03-02T22:35:59.187261Z",
     "iopub.status.idle": "2022-03-02T22:35:59.197499Z",
     "shell.execute_reply": "2022-03-02T22:35:59.196874Z",
     "shell.execute_reply.started": "2022-03-02T21:50:18.085512Z"
    },
    "papermill": {
     "duration": 0.084948,
     "end_time": "2022-03-02T22:35:59.197677",
     "exception": false,
     "start_time": "2022-03-02T22:35:59.112729",
     "status": "completed"
    },
    "tags": []
   },
   "outputs": [],
   "source": [
    "df = df.dropna()"
   ]
  },
  {
   "cell_type": "code",
   "execution_count": 6,
   "id": "7a076480",
   "metadata": {
    "execution": {
     "iopub.execute_input": "2022-03-02T22:35:59.315415Z",
     "iopub.status.busy": "2022-03-02T22:35:59.314460Z",
     "iopub.status.idle": "2022-03-02T22:35:59.319250Z",
     "shell.execute_reply": "2022-03-02T22:35:59.319866Z",
     "shell.execute_reply.started": "2022-03-02T21:50:25.696339Z"
    },
    "papermill": {
     "duration": 0.074586,
     "end_time": "2022-03-02T22:35:59.320072",
     "exception": false,
     "start_time": "2022-03-02T22:35:59.245486",
     "status": "completed"
    },
    "tags": []
   },
   "outputs": [
    {
     "data": {
      "text/plain": [
       "id        0\n",
       "title     0\n",
       "author    0\n",
       "text      0\n",
       "label     0\n",
       "dtype: int64"
      ]
     },
     "execution_count": 6,
     "metadata": {},
     "output_type": "execute_result"
    }
   ],
   "source": [
    "df.isnull().sum()"
   ]
  },
  {
   "cell_type": "code",
   "execution_count": 7,
   "id": "1354f772",
   "metadata": {
    "execution": {
     "iopub.execute_input": "2022-03-02T22:35:59.437531Z",
     "iopub.status.busy": "2022-03-02T22:35:59.436725Z",
     "iopub.status.idle": "2022-03-02T22:35:59.440483Z",
     "shell.execute_reply": "2022-03-02T22:35:59.441080Z",
     "shell.execute_reply.started": "2022-03-02T21:50:45.495591Z"
    },
    "papermill": {
     "duration": 0.073337,
     "end_time": "2022-03-02T22:35:59.441311",
     "exception": false,
     "start_time": "2022-03-02T22:35:59.367974",
     "status": "completed"
    },
    "tags": []
   },
   "outputs": [],
   "source": [
    "X = df.drop('label', axis = 1)"
   ]
  },
  {
   "cell_type": "code",
   "execution_count": 8,
   "id": "79114279",
   "metadata": {
    "execution": {
     "iopub.execute_input": "2022-03-02T22:35:59.541799Z",
     "iopub.status.busy": "2022-03-02T22:35:59.541100Z",
     "iopub.status.idle": "2022-03-02T22:35:59.544383Z",
     "shell.execute_reply": "2022-03-02T22:35:59.543721Z",
     "shell.execute_reply.started": "2022-03-02T21:50:56.894503Z"
    },
    "papermill": {
     "duration": 0.056481,
     "end_time": "2022-03-02T22:35:59.544532",
     "exception": false,
     "start_time": "2022-03-02T22:35:59.488051",
     "status": "completed"
    },
    "tags": []
   },
   "outputs": [],
   "source": [
    "y = df['label']"
   ]
  },
  {
   "cell_type": "code",
   "execution_count": 9,
   "id": "d9e3229f",
   "metadata": {
    "execution": {
     "iopub.execute_input": "2022-03-02T22:35:59.644325Z",
     "iopub.status.busy": "2022-03-02T22:35:59.643323Z",
     "iopub.status.idle": "2022-03-02T22:35:59.648215Z",
     "shell.execute_reply": "2022-03-02T22:35:59.647597Z",
     "shell.execute_reply.started": "2022-03-02T21:51:06.001335Z"
    },
    "papermill": {
     "duration": 0.056622,
     "end_time": "2022-03-02T22:35:59.648372",
     "exception": false,
     "start_time": "2022-03-02T22:35:59.591750",
     "status": "completed"
    },
    "tags": []
   },
   "outputs": [
    {
     "data": {
      "text/plain": [
       "(18285, 4)"
      ]
     },
     "execution_count": 9,
     "metadata": {},
     "output_type": "execute_result"
    }
   ],
   "source": [
    "X.shape"
   ]
  },
  {
   "cell_type": "code",
   "execution_count": 10,
   "id": "5686a69c",
   "metadata": {
    "execution": {
     "iopub.execute_input": "2022-03-02T22:35:59.748640Z",
     "iopub.status.busy": "2022-03-02T22:35:59.747817Z",
     "iopub.status.idle": "2022-03-02T22:35:59.751480Z",
     "shell.execute_reply": "2022-03-02T22:35:59.750842Z",
     "shell.execute_reply.started": "2022-03-02T21:51:14.702261Z"
    },
    "papermill": {
     "duration": 0.056854,
     "end_time": "2022-03-02T22:35:59.751619",
     "exception": false,
     "start_time": "2022-03-02T22:35:59.694765",
     "status": "completed"
    },
    "tags": []
   },
   "outputs": [
    {
     "data": {
      "text/plain": [
       "(18285,)"
      ]
     },
     "execution_count": 10,
     "metadata": {},
     "output_type": "execute_result"
    }
   ],
   "source": [
    "y.shape"
   ]
  },
  {
   "cell_type": "code",
   "execution_count": 11,
   "id": "f057f905",
   "metadata": {
    "execution": {
     "iopub.execute_input": "2022-03-02T22:35:59.851492Z",
     "iopub.status.busy": "2022-03-02T22:35:59.850816Z",
     "iopub.status.idle": "2022-03-02T22:36:07.523271Z",
     "shell.execute_reply": "2022-03-02T22:36:07.522721Z",
     "shell.execute_reply.started": "2022-03-02T21:52:06.559526Z"
    },
    "papermill": {
     "duration": 7.724838,
     "end_time": "2022-03-02T22:36:07.523472",
     "exception": false,
     "start_time": "2022-03-02T22:35:59.798634",
     "status": "completed"
    },
    "tags": []
   },
   "outputs": [],
   "source": [
    "from tensorflow.keras.layers import Embedding"
   ]
  },
  {
   "cell_type": "code",
   "execution_count": 12,
   "id": "b1e96132",
   "metadata": {
    "execution": {
     "iopub.execute_input": "2022-03-02T22:36:07.624268Z",
     "iopub.status.busy": "2022-03-02T22:36:07.623578Z",
     "iopub.status.idle": "2022-03-02T22:36:07.629363Z",
     "shell.execute_reply": "2022-03-02T22:36:07.629853Z",
     "shell.execute_reply.started": "2022-03-02T21:53:04.088079Z"
    },
    "papermill": {
     "duration": 0.057826,
     "end_time": "2022-03-02T22:36:07.630043",
     "exception": false,
     "start_time": "2022-03-02T22:36:07.572217",
     "status": "completed"
    },
    "tags": []
   },
   "outputs": [],
   "source": [
    "from tensorflow.keras.preprocessing.sequence import pad_sequences\n"
   ]
  },
  {
   "cell_type": "code",
   "execution_count": 13,
   "id": "38033bc9",
   "metadata": {
    "execution": {
     "iopub.execute_input": "2022-03-02T22:36:07.730199Z",
     "iopub.status.busy": "2022-03-02T22:36:07.729524Z",
     "iopub.status.idle": "2022-03-02T22:36:07.736174Z",
     "shell.execute_reply": "2022-03-02T22:36:07.735560Z",
     "shell.execute_reply.started": "2022-03-02T21:53:33.710604Z"
    },
    "papermill": {
     "duration": 0.058377,
     "end_time": "2022-03-02T22:36:07.736368",
     "exception": false,
     "start_time": "2022-03-02T22:36:07.677991",
     "status": "completed"
    },
    "tags": []
   },
   "outputs": [],
   "source": [
    "from tensorflow.keras.preprocessing.text import one_hot"
   ]
  },
  {
   "cell_type": "code",
   "execution_count": 14,
   "id": "ecf4e830",
   "metadata": {
    "execution": {
     "iopub.execute_input": "2022-03-02T22:36:07.846862Z",
     "iopub.status.busy": "2022-03-02T22:36:07.845833Z",
     "iopub.status.idle": "2022-03-02T22:36:07.849270Z",
     "shell.execute_reply": "2022-03-02T22:36:07.849840Z",
     "shell.execute_reply.started": "2022-03-02T21:54:39.875279Z"
    },
    "papermill": {
     "duration": 0.066096,
     "end_time": "2022-03-02T22:36:07.850053",
     "exception": false,
     "start_time": "2022-03-02T22:36:07.783957",
     "status": "completed"
    },
    "tags": []
   },
   "outputs": [],
   "source": [
    "from tensorflow.keras.models import Sequential\n",
    "from tensorflow.keras.layers import LSTM, Dense"
   ]
  },
  {
   "cell_type": "code",
   "execution_count": 15,
   "id": "2f0c4059",
   "metadata": {
    "execution": {
     "iopub.execute_input": "2022-03-02T22:36:07.951689Z",
     "iopub.status.busy": "2022-03-02T22:36:07.949825Z",
     "iopub.status.idle": "2022-03-02T22:36:07.955743Z",
     "shell.execute_reply": "2022-03-02T22:36:07.955174Z",
     "shell.execute_reply.started": "2022-03-02T21:55:03.006196Z"
    },
    "papermill": {
     "duration": 0.057488,
     "end_time": "2022-03-02T22:36:07.955899",
     "exception": false,
     "start_time": "2022-03-02T22:36:07.898411",
     "status": "completed"
    },
    "tags": []
   },
   "outputs": [],
   "source": [
    "voc_size = 5000"
   ]
  },
  {
   "cell_type": "markdown",
   "id": "7309ae2e",
   "metadata": {
    "papermill": {
     "duration": 0.047307,
     "end_time": "2022-03-02T22:36:08.053934",
     "exception": false,
     "start_time": "2022-03-02T22:36:08.006627",
     "status": "completed"
    },
    "tags": []
   },
   "source": [
    "**ONE HOT**"
   ]
  },
  {
   "cell_type": "code",
   "execution_count": 16,
   "id": "f21f947e",
   "metadata": {
    "execution": {
     "iopub.execute_input": "2022-03-02T22:36:08.157178Z",
     "iopub.status.busy": "2022-03-02T22:36:08.154736Z",
     "iopub.status.idle": "2022-03-02T22:36:08.163657Z",
     "shell.execute_reply": "2022-03-02T22:36:08.163001Z",
     "shell.execute_reply.started": "2022-03-02T21:56:54.124974Z"
    },
    "papermill": {
     "duration": 0.061542,
     "end_time": "2022-03-02T22:36:08.163808",
     "exception": false,
     "start_time": "2022-03-02T22:36:08.102266",
     "status": "completed"
    },
    "tags": []
   },
   "outputs": [],
   "source": [
    "message = X.copy()"
   ]
  },
  {
   "cell_type": "code",
   "execution_count": 17,
   "id": "766099e5",
   "metadata": {
    "execution": {
     "iopub.execute_input": "2022-03-02T22:36:08.280025Z",
     "iopub.status.busy": "2022-03-02T22:36:08.279084Z",
     "iopub.status.idle": "2022-03-02T22:36:08.282798Z",
     "shell.execute_reply": "2022-03-02T22:36:08.282137Z",
     "shell.execute_reply.started": "2022-03-02T21:57:29.822917Z"
    },
    "papermill": {
     "duration": 0.062568,
     "end_time": "2022-03-02T22:36:08.282949",
     "exception": false,
     "start_time": "2022-03-02T22:36:08.220381",
     "status": "completed"
    },
    "tags": []
   },
   "outputs": [],
   "source": [
    "message.reset_index(inplace = True)"
   ]
  },
  {
   "cell_type": "code",
   "execution_count": 18,
   "id": "0b3c1e2f",
   "metadata": {
    "execution": {
     "iopub.execute_input": "2022-03-02T22:36:08.391845Z",
     "iopub.status.busy": "2022-03-02T22:36:08.390892Z",
     "iopub.status.idle": "2022-03-02T22:36:10.226462Z",
     "shell.execute_reply": "2022-03-02T22:36:10.225688Z",
     "shell.execute_reply.started": "2022-03-02T21:58:53.153372Z"
    },
    "papermill": {
     "duration": 1.893628,
     "end_time": "2022-03-02T22:36:10.226627",
     "exception": false,
     "start_time": "2022-03-02T22:36:08.332999",
     "status": "completed"
    },
    "tags": []
   },
   "outputs": [],
   "source": [
    "import nltk\n",
    "import re\n",
    "from nltk.corpus import stopwords"
   ]
  },
  {
   "cell_type": "code",
   "execution_count": 19,
   "id": "b98d2790",
   "metadata": {
    "execution": {
     "iopub.execute_input": "2022-03-02T22:36:10.339892Z",
     "iopub.status.busy": "2022-03-02T22:36:10.331160Z",
     "iopub.status.idle": "2022-03-02T22:36:10.481341Z",
     "shell.execute_reply": "2022-03-02T22:36:10.480602Z",
     "shell.execute_reply.started": "2022-03-02T21:59:08.475895Z"
    },
    "papermill": {
     "duration": 0.203317,
     "end_time": "2022-03-02T22:36:10.481508",
     "exception": false,
     "start_time": "2022-03-02T22:36:10.278191",
     "status": "completed"
    },
    "tags": []
   },
   "outputs": [
    {
     "name": "stdout",
     "output_type": "stream",
     "text": [
      "[nltk_data] Downloading package stopwords to /usr/share/nltk_data...\n",
      "[nltk_data]   Package stopwords is already up-to-date!\n"
     ]
    },
    {
     "data": {
      "text/plain": [
       "True"
      ]
     },
     "execution_count": 19,
     "metadata": {},
     "output_type": "execute_result"
    }
   ],
   "source": [
    "nltk.download('stopwords')"
   ]
  },
  {
   "cell_type": "code",
   "execution_count": 20,
   "id": "ef57136f",
   "metadata": {
    "execution": {
     "iopub.execute_input": "2022-03-02T22:36:10.592035Z",
     "iopub.status.busy": "2022-03-02T22:36:10.590958Z",
     "iopub.status.idle": "2022-03-02T22:36:10.704733Z",
     "shell.execute_reply": "2022-03-02T22:36:10.704114Z",
     "shell.execute_reply.started": "2022-03-02T22:00:30.490525Z"
    },
    "papermill": {
     "duration": 0.17135,
     "end_time": "2022-03-02T22:36:10.704887",
     "exception": false,
     "start_time": "2022-03-02T22:36:10.533537",
     "status": "completed"
    },
    "tags": []
   },
   "outputs": [
    {
     "name": "stdout",
     "output_type": "stream",
     "text": [
      "[nltk_data] Downloading package punkt to /usr/share/nltk_data...\n",
      "[nltk_data]   Package punkt is already up-to-date!\n"
     ]
    },
    {
     "data": {
      "text/plain": [
       "True"
      ]
     },
     "execution_count": 20,
     "metadata": {},
     "output_type": "execute_result"
    }
   ],
   "source": [
    "nltk.download('punkt')"
   ]
  },
  {
   "cell_type": "code",
   "execution_count": 21,
   "id": "6c774c2d",
   "metadata": {
    "execution": {
     "iopub.execute_input": "2022-03-02T22:36:10.815349Z",
     "iopub.status.busy": "2022-03-02T22:36:10.814413Z",
     "iopub.status.idle": "2022-03-02T22:36:10.818406Z",
     "shell.execute_reply": "2022-03-02T22:36:10.817699Z",
     "shell.execute_reply.started": "2022-03-02T22:00:42.221025Z"
    },
    "papermill": {
     "duration": 0.058587,
     "end_time": "2022-03-02T22:36:10.818572",
     "exception": false,
     "start_time": "2022-03-02T22:36:10.759985",
     "status": "completed"
    },
    "tags": []
   },
   "outputs": [],
   "source": [
    "from nltk.stem.porter import PorterStemmer\n",
    "ps = PorterStemmer()"
   ]
  },
  {
   "cell_type": "code",
   "execution_count": null,
   "id": "eebd7dac",
   "metadata": {
    "papermill": {
     "duration": 0.049674,
     "end_time": "2022-03-02T22:36:10.919829",
     "exception": false,
     "start_time": "2022-03-02T22:36:10.870155",
     "status": "completed"
    },
    "tags": []
   },
   "outputs": [],
   "source": []
  },
  {
   "cell_type": "code",
   "execution_count": 22,
   "id": "56f47b4e",
   "metadata": {
    "execution": {
     "iopub.execute_input": "2022-03-02T22:36:11.037646Z",
     "iopub.status.busy": "2022-03-02T22:36:11.036514Z",
     "iopub.status.idle": "2022-03-02T22:36:50.174506Z",
     "shell.execute_reply": "2022-03-02T22:36:50.173324Z",
     "shell.execute_reply.started": "2022-03-02T22:12:35.027065Z"
    },
    "papermill": {
     "duration": 39.203324,
     "end_time": "2022-03-02T22:36:50.174714",
     "exception": false,
     "start_time": "2022-03-02T22:36:10.971390",
     "status": "completed"
    },
    "tags": []
   },
   "outputs": [],
   "source": [
    "corpus = []\n",
    "for i in range(0, len(message)):\n",
    "   \n",
    "    review = re.sub('[^a-zA-Z]', ' ', message['title'][i])\n",
    "    review = review.lower()\n",
    "    review = review.split()\n",
    "    \n",
    "    review = [ps.stem(word) for word in review if not word in stopwords.words('english')]\n",
    "    review = ' '.join(review)\n",
    "    corpus.append(review)\n",
    "    "
   ]
  },
  {
   "cell_type": "code",
   "execution_count": 23,
   "id": "595a4687",
   "metadata": {
    "execution": {
     "iopub.execute_input": "2022-03-02T22:36:50.303891Z",
     "iopub.status.busy": "2022-03-02T22:36:50.301111Z",
     "iopub.status.idle": "2022-03-02T22:36:50.310000Z",
     "shell.execute_reply": "2022-03-02T22:36:50.310734Z",
     "shell.execute_reply.started": "2022-03-02T22:13:18.714267Z"
    },
    "papermill": {
     "duration": 0.072235,
     "end_time": "2022-03-02T22:36:50.310996",
     "exception": false,
     "start_time": "2022-03-02T22:36:50.238761",
     "status": "completed"
    },
    "tags": []
   },
   "outputs": [
    {
     "data": {
      "text/plain": [
       "18285"
      ]
     },
     "execution_count": 23,
     "metadata": {},
     "output_type": "execute_result"
    }
   ],
   "source": [
    "len(corpus)"
   ]
  },
  {
   "cell_type": "code",
   "execution_count": 24,
   "id": "e1953a6d",
   "metadata": {
    "execution": {
     "iopub.execute_input": "2022-03-02T22:36:50.432011Z",
     "iopub.status.busy": "2022-03-02T22:36:50.430882Z",
     "iopub.status.idle": "2022-03-02T22:36:50.439483Z",
     "shell.execute_reply": "2022-03-02T22:36:50.438892Z",
     "shell.execute_reply.started": "2022-03-02T22:14:10.799302Z"
    },
    "papermill": {
     "duration": 0.070635,
     "end_time": "2022-03-02T22:36:50.439659",
     "exception": false,
     "start_time": "2022-03-02T22:36:50.369024",
     "status": "completed"
    },
    "tags": []
   },
   "outputs": [
    {
     "data": {
      "text/plain": [
       "'House Dem Aide: We Didn’t Even See Comey’s Letter Until Jason Chaffetz Tweeted It'"
      ]
     },
     "execution_count": 24,
     "metadata": {},
     "output_type": "execute_result"
    }
   ],
   "source": [
    "message['title'][0]"
   ]
  },
  {
   "cell_type": "code",
   "execution_count": 25,
   "id": "0151e925",
   "metadata": {
    "execution": {
     "iopub.execute_input": "2022-03-02T22:36:50.555270Z",
     "iopub.status.busy": "2022-03-02T22:36:50.554490Z",
     "iopub.status.idle": "2022-03-02T22:36:50.561597Z",
     "shell.execute_reply": "2022-03-02T22:36:50.562152Z",
     "shell.execute_reply.started": "2022-03-02T22:13:31.669717Z"
    },
    "papermill": {
     "duration": 0.068424,
     "end_time": "2022-03-02T22:36:50.562430",
     "exception": false,
     "start_time": "2022-03-02T22:36:50.494006",
     "status": "completed"
    },
    "tags": []
   },
   "outputs": [
    {
     "data": {
      "text/plain": [
       "'hous dem aid even see comey letter jason chaffetz tweet'"
      ]
     },
     "execution_count": 25,
     "metadata": {},
     "output_type": "execute_result"
    }
   ],
   "source": [
    "corpus[0]"
   ]
  },
  {
   "cell_type": "markdown",
   "id": "844400f2",
   "metadata": {
    "papermill": {
     "duration": 0.053393,
     "end_time": "2022-03-02T22:36:50.669626",
     "exception": false,
     "start_time": "2022-03-02T22:36:50.616233",
     "status": "completed"
    },
    "tags": []
   },
   "source": [
    "**One Hot**"
   ]
  },
  {
   "cell_type": "code",
   "execution_count": 26,
   "id": "8d8a84d9",
   "metadata": {
    "execution": {
     "iopub.execute_input": "2022-03-02T22:36:50.793177Z",
     "iopub.status.busy": "2022-03-02T22:36:50.792426Z",
     "iopub.status.idle": "2022-03-02T22:36:51.085356Z",
     "shell.execute_reply": "2022-03-02T22:36:51.084773Z",
     "shell.execute_reply.started": "2022-03-02T22:15:21.402685Z"
    },
    "papermill": {
     "duration": 0.35632,
     "end_time": "2022-03-02T22:36:51.085512",
     "exception": false,
     "start_time": "2022-03-02T22:36:50.729192",
     "status": "completed"
    },
    "tags": []
   },
   "outputs": [],
   "source": [
    "onehot_repr = [one_hot(words, voc_size) for words in corpus]"
   ]
  },
  {
   "cell_type": "code",
   "execution_count": 27,
   "id": "9985632b",
   "metadata": {
    "execution": {
     "iopub.execute_input": "2022-03-02T22:36:51.197497Z",
     "iopub.status.busy": "2022-03-02T22:36:51.196450Z",
     "iopub.status.idle": "2022-03-02T22:36:51.203007Z",
     "shell.execute_reply": "2022-03-02T22:36:51.203655Z",
     "shell.execute_reply.started": "2022-03-02T22:15:49.762537Z"
    },
    "papermill": {
     "duration": 0.064996,
     "end_time": "2022-03-02T22:36:51.203867",
     "exception": false,
     "start_time": "2022-03-02T22:36:51.138871",
     "status": "completed"
    },
    "tags": []
   },
   "outputs": [
    {
     "data": {
      "text/plain": [
       "[4652, 676, 2990, 4162, 2766, 2182, 2485, 3426, 4928, 2303]"
      ]
     },
     "execution_count": 27,
     "metadata": {},
     "output_type": "execute_result"
    }
   ],
   "source": [
    "onehot_repr[0]"
   ]
  },
  {
   "cell_type": "code",
   "execution_count": 28,
   "id": "9f07c64b",
   "metadata": {
    "execution": {
     "iopub.execute_input": "2022-03-02T22:36:51.327377Z",
     "iopub.status.busy": "2022-03-02T22:36:51.326265Z",
     "iopub.status.idle": "2022-03-02T22:36:51.441926Z",
     "shell.execute_reply": "2022-03-02T22:36:51.441366Z",
     "shell.execute_reply.started": "2022-03-02T22:18:32.844184Z"
    },
    "papermill": {
     "duration": 0.180384,
     "end_time": "2022-03-02T22:36:51.442079",
     "exception": false,
     "start_time": "2022-03-02T22:36:51.261695",
     "status": "completed"
    },
    "tags": []
   },
   "outputs": [],
   "source": [
    "sent_length = 20\n",
    "embeded_docs = pad_sequences(onehot_repr, padding = \"pre\", maxlen = sent_length)"
   ]
  },
  {
   "cell_type": "code",
   "execution_count": 29,
   "id": "8c6b55a7",
   "metadata": {
    "execution": {
     "iopub.execute_input": "2022-03-02T22:36:51.556964Z",
     "iopub.status.busy": "2022-03-02T22:36:51.556046Z",
     "iopub.status.idle": "2022-03-02T22:36:51.559762Z",
     "shell.execute_reply": "2022-03-02T22:36:51.560263Z",
     "shell.execute_reply.started": "2022-03-02T22:19:55.508071Z"
    },
    "papermill": {
     "duration": 0.065318,
     "end_time": "2022-03-02T22:36:51.560512",
     "exception": false,
     "start_time": "2022-03-02T22:36:51.495194",
     "status": "completed"
    },
    "tags": []
   },
   "outputs": [
    {
     "data": {
      "text/plain": [
       "array([   0,    0,    0,    0,    0,    0,    0,    0,    0,    0, 4652,\n",
       "        676, 2990, 4162, 2766, 2182, 2485, 3426, 4928, 2303], dtype=int32)"
      ]
     },
     "execution_count": 29,
     "metadata": {},
     "output_type": "execute_result"
    }
   ],
   "source": [
    "embeded_docs[0]"
   ]
  },
  {
   "cell_type": "code",
   "execution_count": 30,
   "id": "a91df275",
   "metadata": {
    "execution": {
     "iopub.execute_input": "2022-03-02T22:36:51.686037Z",
     "iopub.status.busy": "2022-03-02T22:36:51.683198Z",
     "iopub.status.idle": "2022-03-02T22:36:51.765852Z",
     "shell.execute_reply": "2022-03-02T22:36:51.766400Z",
     "shell.execute_reply.started": "2022-03-02T22:20:35.950596Z"
    },
    "papermill": {
     "duration": 0.152676,
     "end_time": "2022-03-02T22:36:51.766693",
     "exception": false,
     "start_time": "2022-03-02T22:36:51.614017",
     "status": "completed"
    },
    "tags": []
   },
   "outputs": [
    {
     "name": "stderr",
     "output_type": "stream",
     "text": [
      "2022-03-02 22:36:51.731067: I tensorflow/core/common_runtime/process_util.cc:146] Creating new thread pool with default inter op setting: 2. Tune using inter_op_parallelism_threads for best performance.\n"
     ]
    }
   ],
   "source": [
    "dims = 40\n",
    "model = Sequential()"
   ]
  },
  {
   "cell_type": "code",
   "execution_count": 31,
   "id": "2b22965f",
   "metadata": {
    "execution": {
     "iopub.execute_input": "2022-03-02T22:36:51.898428Z",
     "iopub.status.busy": "2022-03-02T22:36:51.896897Z",
     "iopub.status.idle": "2022-03-02T22:36:51.960079Z",
     "shell.execute_reply": "2022-03-02T22:36:51.959500Z",
     "shell.execute_reply.started": "2022-03-02T22:22:06.621106Z"
    },
    "papermill": {
     "duration": 0.137059,
     "end_time": "2022-03-02T22:36:51.960274",
     "exception": false,
     "start_time": "2022-03-02T22:36:51.823215",
     "status": "completed"
    },
    "tags": []
   },
   "outputs": [],
   "source": [
    "model.add(Embedding(voc_size, dims, input_length = sent_length))"
   ]
  },
  {
   "cell_type": "code",
   "execution_count": 32,
   "id": "38ee36c1",
   "metadata": {
    "execution": {
     "iopub.execute_input": "2022-03-02T22:36:52.076929Z",
     "iopub.status.busy": "2022-03-02T22:36:52.076233Z",
     "iopub.status.idle": "2022-03-02T22:36:52.488408Z",
     "shell.execute_reply": "2022-03-02T22:36:52.487346Z",
     "shell.execute_reply.started": "2022-03-02T22:22:53.144768Z"
    },
    "papermill": {
     "duration": 0.471523,
     "end_time": "2022-03-02T22:36:52.488578",
     "exception": false,
     "start_time": "2022-03-02T22:36:52.017055",
     "status": "completed"
    },
    "tags": []
   },
   "outputs": [],
   "source": [
    "model.add(LSTM(100))\n",
    "model.add(Dense(1, activation = \"sigmoid\"))"
   ]
  },
  {
   "cell_type": "code",
   "execution_count": 33,
   "id": "8ade11f4",
   "metadata": {
    "execution": {
     "iopub.execute_input": "2022-03-02T22:36:52.612316Z",
     "iopub.status.busy": "2022-03-02T22:36:52.601500Z",
     "iopub.status.idle": "2022-03-02T22:36:52.921168Z",
     "shell.execute_reply": "2022-03-02T22:36:52.920388Z",
     "shell.execute_reply.started": "2022-03-02T22:23:49.139319Z"
    },
    "papermill": {
     "duration": 0.377756,
     "end_time": "2022-03-02T22:36:52.921398",
     "exception": false,
     "start_time": "2022-03-02T22:36:52.543642",
     "status": "completed"
    },
    "tags": []
   },
   "outputs": [
    {
     "name": "stdout",
     "output_type": "stream",
     "text": [
      "Model: \"sequential\"\n",
      "_________________________________________________________________\n",
      "Layer (type)                 Output Shape              Param #   \n",
      "=================================================================\n",
      "embedding (Embedding)        (None, 20, 40)            200000    \n",
      "_________________________________________________________________\n",
      "lstm (LSTM)                  (None, 100)               56400     \n",
      "_________________________________________________________________\n",
      "dense (Dense)                (None, 1)                 101       \n",
      "=================================================================\n",
      "Total params: 256,501\n",
      "Trainable params: 256,501\n",
      "Non-trainable params: 0\n",
      "_________________________________________________________________\n",
      "None\n"
     ]
    }
   ],
   "source": [
    "model.compile(loss = 'binary_crossentropy', optimizer = 'adam', metrics = ['accuracy'])\n",
    "print(model.summary())"
   ]
  },
  {
   "cell_type": "code",
   "execution_count": 34,
   "id": "7c53c2e8",
   "metadata": {
    "execution": {
     "iopub.execute_input": "2022-03-02T22:36:53.058675Z",
     "iopub.status.busy": "2022-03-02T22:36:53.057674Z",
     "iopub.status.idle": "2022-03-02T22:36:53.061031Z",
     "shell.execute_reply": "2022-03-02T22:36:53.060253Z",
     "shell.execute_reply.started": "2022-03-02T22:26:29.456447Z"
    },
    "papermill": {
     "duration": 0.074937,
     "end_time": "2022-03-02T22:36:53.061213",
     "exception": false,
     "start_time": "2022-03-02T22:36:52.986276",
     "status": "completed"
    },
    "tags": []
   },
   "outputs": [],
   "source": [
    "X_final = np.array(embeded_docs)"
   ]
  },
  {
   "cell_type": "code",
   "execution_count": 35,
   "id": "f5361972",
   "metadata": {
    "execution": {
     "iopub.execute_input": "2022-03-02T22:36:53.195247Z",
     "iopub.status.busy": "2022-03-02T22:36:53.194275Z",
     "iopub.status.idle": "2022-03-02T22:36:53.197227Z",
     "shell.execute_reply": "2022-03-02T22:36:53.196629Z",
     "shell.execute_reply.started": "2022-03-02T22:26:44.808826Z"
    },
    "papermill": {
     "duration": 0.072013,
     "end_time": "2022-03-02T22:36:53.197450",
     "exception": false,
     "start_time": "2022-03-02T22:36:53.125437",
     "status": "completed"
    },
    "tags": []
   },
   "outputs": [],
   "source": [
    "y_final = np.array(y)"
   ]
  },
  {
   "cell_type": "code",
   "execution_count": 36,
   "id": "557167e5",
   "metadata": {
    "execution": {
     "iopub.execute_input": "2022-03-02T22:36:53.333737Z",
     "iopub.status.busy": "2022-03-02T22:36:53.332507Z",
     "iopub.status.idle": "2022-03-02T22:36:53.336732Z",
     "shell.execute_reply": "2022-03-02T22:36:53.337235Z",
     "shell.execute_reply.started": "2022-03-02T22:26:52.696704Z"
    },
    "papermill": {
     "duration": 0.077752,
     "end_time": "2022-03-02T22:36:53.337458",
     "exception": false,
     "start_time": "2022-03-02T22:36:53.259706",
     "status": "completed"
    },
    "tags": []
   },
   "outputs": [
    {
     "data": {
      "text/plain": [
       "(18285, 20)"
      ]
     },
     "execution_count": 36,
     "metadata": {},
     "output_type": "execute_result"
    }
   ],
   "source": [
    "X_final.shape"
   ]
  },
  {
   "cell_type": "code",
   "execution_count": 37,
   "id": "203d7345",
   "metadata": {
    "execution": {
     "iopub.execute_input": "2022-03-02T22:36:53.467267Z",
     "iopub.status.busy": "2022-03-02T22:36:53.466206Z",
     "iopub.status.idle": "2022-03-02T22:36:53.469686Z",
     "shell.execute_reply": "2022-03-02T22:36:53.469057Z",
     "shell.execute_reply.started": "2022-03-02T22:27:20.241280Z"
    },
    "papermill": {
     "duration": 0.068784,
     "end_time": "2022-03-02T22:36:53.469867",
     "exception": false,
     "start_time": "2022-03-02T22:36:53.401083",
     "status": "completed"
    },
    "tags": []
   },
   "outputs": [],
   "source": [
    "from sklearn.model_selection import train_test_split"
   ]
  },
  {
   "cell_type": "code",
   "execution_count": 38,
   "id": "ed61a435",
   "metadata": {
    "execution": {
     "iopub.execute_input": "2022-03-02T22:36:53.607995Z",
     "iopub.status.busy": "2022-03-02T22:36:53.607223Z",
     "iopub.status.idle": "2022-03-02T22:36:53.615770Z",
     "shell.execute_reply": "2022-03-02T22:36:53.616336Z",
     "shell.execute_reply.started": "2022-03-02T22:29:30.217304Z"
    },
    "papermill": {
     "duration": 0.083506,
     "end_time": "2022-03-02T22:36:53.616530",
     "exception": false,
     "start_time": "2022-03-02T22:36:53.533024",
     "status": "completed"
    },
    "tags": []
   },
   "outputs": [],
   "source": [
    "X_train, X_test, y_train, y_test = train_test_split(X_final, y_final, test_size=0.33, random_state=42)"
   ]
  },
  {
   "cell_type": "code",
   "execution_count": 39,
   "id": "5b42e7db",
   "metadata": {
    "execution": {
     "iopub.execute_input": "2022-03-02T22:36:53.742694Z",
     "iopub.status.busy": "2022-03-02T22:36:53.741517Z",
     "iopub.status.idle": "2022-03-02T22:38:31.881975Z",
     "shell.execute_reply": "2022-03-02T22:38:31.882762Z",
     "shell.execute_reply.started": "2022-03-02T22:29:36.562727Z"
    },
    "papermill": {
     "duration": 98.208741,
     "end_time": "2022-03-02T22:38:31.883087",
     "exception": false,
     "start_time": "2022-03-02T22:36:53.674346",
     "status": "completed"
    },
    "tags": []
   },
   "outputs": [
    {
     "name": "stderr",
     "output_type": "stream",
     "text": [
      "2022-03-02 22:36:53.815513: I tensorflow/compiler/mlir/mlir_graph_optimization_pass.cc:185] None of the MLIR Optimization Passes are enabled (registered 2)\n"
     ]
    },
    {
     "name": "stdout",
     "output_type": "stream",
     "text": [
      "Epoch 1/10\n",
      "192/192 [==============================] - 14s 57ms/step - loss: 0.3382 - accuracy: 0.8387 - val_loss: 0.1971 - val_accuracy: 0.9162\n",
      "Epoch 2/10\n",
      "192/192 [==============================] - 10s 53ms/step - loss: 0.1399 - accuracy: 0.9451 - val_loss: 0.1987 - val_accuracy: 0.9162\n",
      "Epoch 3/10\n",
      "192/192 [==============================] - 9s 48ms/step - loss: 0.0973 - accuracy: 0.9640 - val_loss: 0.2338 - val_accuracy: 0.9165\n",
      "Epoch 4/10\n",
      "192/192 [==============================] - 10s 54ms/step - loss: 0.0712 - accuracy: 0.9749 - val_loss: 0.2803 - val_accuracy: 0.9148\n",
      "Epoch 5/10\n",
      "192/192 [==============================] - 9s 47ms/step - loss: 0.0503 - accuracy: 0.9827 - val_loss: 0.2931 - val_accuracy: 0.9080\n",
      "Epoch 6/10\n",
      "192/192 [==============================] - 8s 43ms/step - loss: 0.0353 - accuracy: 0.9890 - val_loss: 0.3887 - val_accuracy: 0.9100\n",
      "Epoch 7/10\n",
      "192/192 [==============================] - 8s 43ms/step - loss: 0.0214 - accuracy: 0.9934 - val_loss: 0.4186 - val_accuracy: 0.9099\n",
      "Epoch 8/10\n",
      "192/192 [==============================] - 9s 46ms/step - loss: 0.0143 - accuracy: 0.9955 - val_loss: 0.5050 - val_accuracy: 0.9104\n",
      "Epoch 9/10\n",
      "192/192 [==============================] - 10s 52ms/step - loss: 0.0094 - accuracy: 0.9965 - val_loss: 0.5446 - val_accuracy: 0.9109\n",
      "Epoch 10/10\n",
      "192/192 [==============================] - 10s 51ms/step - loss: 0.0068 - accuracy: 0.9981 - val_loss: 0.5740 - val_accuracy: 0.9135\n"
     ]
    },
    {
     "data": {
      "text/plain": [
       "<keras.callbacks.History at 0x7f9d12b4aa90>"
      ]
     },
     "execution_count": 39,
     "metadata": {},
     "output_type": "execute_result"
    }
   ],
   "source": [
    "model.fit(X_train, y_train, validation_data = (X_test, y_test), epochs = 10, batch_size = 64)"
   ]
  },
  {
   "cell_type": "code",
   "execution_count": 40,
   "id": "9383bb7f",
   "metadata": {
    "execution": {
     "iopub.execute_input": "2022-03-02T22:38:32.940904Z",
     "iopub.status.busy": "2022-03-02T22:38:32.940060Z",
     "iopub.status.idle": "2022-03-02T22:38:35.279544Z",
     "shell.execute_reply": "2022-03-02T22:38:35.280099Z",
     "shell.execute_reply.started": "2022-03-02T22:34:17.675236Z"
    },
    "papermill": {
     "duration": 2.842508,
     "end_time": "2022-03-02T22:38:35.280418",
     "exception": false,
     "start_time": "2022-03-02T22:38:32.437910",
     "status": "completed"
    },
    "tags": []
   },
   "outputs": [],
   "source": [
    "y_pred = model.predict(X_test)"
   ]
  },
  {
   "cell_type": "code",
   "execution_count": 41,
   "id": "dc5b0ed9",
   "metadata": {
    "execution": {
     "iopub.execute_input": "2022-03-02T22:38:36.320676Z",
     "iopub.status.busy": "2022-03-02T22:38:36.319948Z",
     "iopub.status.idle": "2022-03-02T22:38:36.325563Z",
     "shell.execute_reply": "2022-03-02T22:38:36.324910Z",
     "shell.execute_reply.started": "2022-03-02T22:34:41.485936Z"
    },
    "papermill": {
     "duration": 0.526206,
     "end_time": "2022-03-02T22:38:36.325723",
     "exception": false,
     "start_time": "2022-03-02T22:38:35.799517",
     "status": "completed"
    },
    "tags": []
   },
   "outputs": [],
   "source": [
    "from sklearn.metrics import accuracy_score"
   ]
  },
  {
   "cell_type": "code",
   "execution_count": null,
   "id": "db4f3c07",
   "metadata": {
    "papermill": {
     "duration": 0.524028,
     "end_time": "2022-03-02T22:38:37.405014",
     "exception": false,
     "start_time": "2022-03-02T22:38:36.880986",
     "status": "completed"
    },
    "tags": []
   },
   "outputs": [],
   "source": []
  },
  {
   "cell_type": "code",
   "execution_count": null,
   "id": "1ed88dda",
   "metadata": {
    "papermill": {
     "duration": 0.507149,
     "end_time": "2022-03-02T22:38:38.479857",
     "exception": false,
     "start_time": "2022-03-02T22:38:37.972708",
     "status": "completed"
    },
    "tags": []
   },
   "outputs": [],
   "source": []
  }
 ],
 "metadata": {
  "kernelspec": {
   "display_name": "Python 3",
   "language": "python",
   "name": "python3"
  },
  "language_info": {
   "codemirror_mode": {
    "name": "ipython",
    "version": 3
   },
   "file_extension": ".py",
   "mimetype": "text/x-python",
   "name": "python",
   "nbconvert_exporter": "python",
   "pygments_lexer": "ipython3",
   "version": "3.7.12"
  },
  "papermill": {
   "default_parameters": {},
   "duration": 178.078635,
   "end_time": "2022-03-02T22:38:42.384543",
   "environment_variables": {},
   "exception": null,
   "input_path": "__notebook__.ipynb",
   "output_path": "__notebook__.ipynb",
   "parameters": {},
   "start_time": "2022-03-02T22:35:44.305908",
   "version": "2.3.3"
  }
 },
 "nbformat": 4,
 "nbformat_minor": 5
}
