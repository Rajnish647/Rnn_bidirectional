{
 "cells": [
  {
   "cell_type": "code",
   "execution_count": null,
   "id": "e7d6fa72",
   "metadata": {
    "papermill": {
     "duration": 0.063822,
     "end_time": "2022-03-03T18:12:29.983011",
     "exception": false,
     "start_time": "2022-03-03T18:12:29.919189",
     "status": "completed"
    },
    "tags": []
   },
   "outputs": [],
   "source": []
  },
  {
   "cell_type": "code",
   "execution_count": 1,
   "id": "ad094b2a",
   "metadata": {
    "_cell_guid": "b1076dfc-b9ad-4769-8c92-a6c4dae69d19",
    "_uuid": "8f2839f25d086af736a60e9eeb907d3b93b6e0e5",
    "execution": {
     "iopub.execute_input": "2022-03-03T18:12:30.119673Z",
     "iopub.status.busy": "2022-03-03T18:12:30.119037Z",
     "iopub.status.idle": "2022-03-03T18:12:30.132017Z",
     "shell.execute_reply": "2022-03-03T18:12:30.131158Z",
     "shell.execute_reply.started": "2022-03-03T18:09:18.804965Z"
    },
    "papermill": {
     "duration": 0.084886,
     "end_time": "2022-03-03T18:12:30.132217",
     "exception": false,
     "start_time": "2022-03-03T18:12:30.047331",
     "status": "completed"
    },
    "tags": []
   },
   "outputs": [
    {
     "name": "stdout",
     "output_type": "stream",
     "text": [
      "/kaggle/input/fake-news/submit.csv\n",
      "/kaggle/input/fake-news/train.csv\n",
      "/kaggle/input/fake-news/test.csv\n"
     ]
    }
   ],
   "source": [
    "# This Python 3 environment comes with many helpful analytics libraries installed\n",
    "# It is defined by the kaggle/python Docker image: https://github.com/kaggle/docker-python\n",
    "# For example, here's several helpful packages to load\n",
    "\n",
    "import numpy as np # linear algebra\n",
    "import pandas as pd # data processing, CSV file I/O (e.g. pd.read_csv)\n",
    "\n",
    "# Input data files are available in the read-only \"../input/\" directory\n",
    "# For example, running this (by clicking run or pressing Shift+Enter) will list all files under the input directory\n",
    "\n",
    "import os\n",
    "for dirname, _, filenames in os.walk('/kaggle/input'):\n",
    "    for filename in filenames:\n",
    "        print(os.path.join(dirname, filename))\n",
    "\n",
    "# You can write up to 20GB to the current directory (/kaggle/working/) that gets preserved as output when you create a version using \"Save & Run All\" \n",
    "# You can also write temporary files to /kaggle/temp/, but they won't be saved outside of the current session"
   ]
  },
  {
   "cell_type": "code",
   "execution_count": 2,
   "id": "266f3fef",
   "metadata": {
    "execution": {
     "iopub.execute_input": "2022-03-03T18:12:30.264545Z",
     "iopub.status.busy": "2022-03-03T18:12:30.262428Z",
     "iopub.status.idle": "2022-03-03T18:12:32.984104Z",
     "shell.execute_reply": "2022-03-03T18:12:32.983335Z",
     "shell.execute_reply.started": "2022-03-03T18:09:18.822189Z"
    },
    "papermill": {
     "duration": 2.787981,
     "end_time": "2022-03-03T18:12:32.984276",
     "exception": false,
     "start_time": "2022-03-03T18:12:30.196295",
     "status": "completed"
    },
    "tags": []
   },
   "outputs": [],
   "source": [
    "df = pd.read_csv('/kaggle/input/fake-news/train.csv')"
   ]
  },
  {
   "cell_type": "code",
   "execution_count": 3,
   "id": "26a07287",
   "metadata": {
    "execution": {
     "iopub.execute_input": "2022-03-03T18:12:33.128727Z",
     "iopub.status.busy": "2022-03-03T18:12:33.127781Z",
     "iopub.status.idle": "2022-03-03T18:12:33.144779Z",
     "shell.execute_reply": "2022-03-03T18:12:33.145288Z",
     "shell.execute_reply.started": "2022-03-03T18:09:20.094033Z"
    },
    "papermill": {
     "duration": 0.09596,
     "end_time": "2022-03-03T18:12:33.145486",
     "exception": false,
     "start_time": "2022-03-03T18:12:33.049526",
     "status": "completed"
    },
    "tags": []
   },
   "outputs": [
    {
     "data": {
      "text/html": [
       "<div>\n",
       "<style scoped>\n",
       "    .dataframe tbody tr th:only-of-type {\n",
       "        vertical-align: middle;\n",
       "    }\n",
       "\n",
       "    .dataframe tbody tr th {\n",
       "        vertical-align: top;\n",
       "    }\n",
       "\n",
       "    .dataframe thead th {\n",
       "        text-align: right;\n",
       "    }\n",
       "</style>\n",
       "<table border=\"1\" class=\"dataframe\">\n",
       "  <thead>\n",
       "    <tr style=\"text-align: right;\">\n",
       "      <th></th>\n",
       "      <th>id</th>\n",
       "      <th>title</th>\n",
       "      <th>author</th>\n",
       "      <th>text</th>\n",
       "      <th>label</th>\n",
       "    </tr>\n",
       "  </thead>\n",
       "  <tbody>\n",
       "    <tr>\n",
       "      <th>0</th>\n",
       "      <td>0</td>\n",
       "      <td>House Dem Aide: We Didn’t Even See Comey’s Let...</td>\n",
       "      <td>Darrell Lucus</td>\n",
       "      <td>House Dem Aide: We Didn’t Even See Comey’s Let...</td>\n",
       "      <td>1</td>\n",
       "    </tr>\n",
       "    <tr>\n",
       "      <th>1</th>\n",
       "      <td>1</td>\n",
       "      <td>FLYNN: Hillary Clinton, Big Woman on Campus - ...</td>\n",
       "      <td>Daniel J. Flynn</td>\n",
       "      <td>Ever get the feeling your life circles the rou...</td>\n",
       "      <td>0</td>\n",
       "    </tr>\n",
       "    <tr>\n",
       "      <th>2</th>\n",
       "      <td>2</td>\n",
       "      <td>Why the Truth Might Get You Fired</td>\n",
       "      <td>Consortiumnews.com</td>\n",
       "      <td>Why the Truth Might Get You Fired October 29, ...</td>\n",
       "      <td>1</td>\n",
       "    </tr>\n",
       "    <tr>\n",
       "      <th>3</th>\n",
       "      <td>3</td>\n",
       "      <td>15 Civilians Killed In Single US Airstrike Hav...</td>\n",
       "      <td>Jessica Purkiss</td>\n",
       "      <td>Videos 15 Civilians Killed In Single US Airstr...</td>\n",
       "      <td>1</td>\n",
       "    </tr>\n",
       "    <tr>\n",
       "      <th>4</th>\n",
       "      <td>4</td>\n",
       "      <td>Iranian woman jailed for fictional unpublished...</td>\n",
       "      <td>Howard Portnoy</td>\n",
       "      <td>Print \\nAn Iranian woman has been sentenced to...</td>\n",
       "      <td>1</td>\n",
       "    </tr>\n",
       "  </tbody>\n",
       "</table>\n",
       "</div>"
      ],
      "text/plain": [
       "   id                                              title              author  \\\n",
       "0   0  House Dem Aide: We Didn’t Even See Comey’s Let...       Darrell Lucus   \n",
       "1   1  FLYNN: Hillary Clinton, Big Woman on Campus - ...     Daniel J. Flynn   \n",
       "2   2                  Why the Truth Might Get You Fired  Consortiumnews.com   \n",
       "3   3  15 Civilians Killed In Single US Airstrike Hav...     Jessica Purkiss   \n",
       "4   4  Iranian woman jailed for fictional unpublished...      Howard Portnoy   \n",
       "\n",
       "                                                text  label  \n",
       "0  House Dem Aide: We Didn’t Even See Comey’s Let...      1  \n",
       "1  Ever get the feeling your life circles the rou...      0  \n",
       "2  Why the Truth Might Get You Fired October 29, ...      1  \n",
       "3  Videos 15 Civilians Killed In Single US Airstr...      1  \n",
       "4  Print \\nAn Iranian woman has been sentenced to...      1  "
      ]
     },
     "execution_count": 3,
     "metadata": {},
     "output_type": "execute_result"
    }
   ],
   "source": [
    "df.head()"
   ]
  },
  {
   "cell_type": "code",
   "execution_count": 4,
   "id": "118b02fc",
   "metadata": {
    "execution": {
     "iopub.execute_input": "2022-03-03T18:12:33.285590Z",
     "iopub.status.busy": "2022-03-03T18:12:33.284247Z",
     "iopub.status.idle": "2022-03-03T18:12:33.309207Z",
     "shell.execute_reply": "2022-03-03T18:12:33.309770Z",
     "shell.execute_reply.started": "2022-03-03T18:09:20.112519Z"
    },
    "papermill": {
     "duration": 0.097919,
     "end_time": "2022-03-03T18:12:33.309988",
     "exception": false,
     "start_time": "2022-03-03T18:12:33.212069",
     "status": "completed"
    },
    "tags": []
   },
   "outputs": [],
   "source": [
    "df = df.dropna()"
   ]
  },
  {
   "cell_type": "code",
   "execution_count": 5,
   "id": "11eb37d2",
   "metadata": {
    "execution": {
     "iopub.execute_input": "2022-03-03T18:12:33.449522Z",
     "iopub.status.busy": "2022-03-03T18:12:33.443785Z",
     "iopub.status.idle": "2022-03-03T18:12:33.457931Z",
     "shell.execute_reply": "2022-03-03T18:12:33.457142Z",
     "shell.execute_reply.started": "2022-03-03T18:09:20.126955Z"
    },
    "papermill": {
     "duration": 0.082782,
     "end_time": "2022-03-03T18:12:33.458208",
     "exception": false,
     "start_time": "2022-03-03T18:12:33.375426",
     "status": "completed"
    },
    "tags": []
   },
   "outputs": [],
   "source": [
    "X = df.drop('label', axis = 1)"
   ]
  },
  {
   "cell_type": "code",
   "execution_count": 6,
   "id": "7bc147c6",
   "metadata": {
    "execution": {
     "iopub.execute_input": "2022-03-03T18:12:33.594539Z",
     "iopub.status.busy": "2022-03-03T18:12:33.593844Z",
     "iopub.status.idle": "2022-03-03T18:12:33.596843Z",
     "shell.execute_reply": "2022-03-03T18:12:33.596255Z",
     "shell.execute_reply.started": "2022-03-03T18:09:20.135228Z"
    },
    "papermill": {
     "duration": 0.073988,
     "end_time": "2022-03-03T18:12:33.597020",
     "exception": false,
     "start_time": "2022-03-03T18:12:33.523032",
     "status": "completed"
    },
    "tags": []
   },
   "outputs": [],
   "source": [
    "y = df['label']"
   ]
  },
  {
   "cell_type": "code",
   "execution_count": 7,
   "id": "386769ce",
   "metadata": {
    "execution": {
     "iopub.execute_input": "2022-03-03T18:12:33.727524Z",
     "iopub.status.busy": "2022-03-03T18:12:33.726568Z",
     "iopub.status.idle": "2022-03-03T18:12:33.732547Z",
     "shell.execute_reply": "2022-03-03T18:12:33.731939Z",
     "shell.execute_reply.started": "2022-03-03T18:09:20.147827Z"
    },
    "papermill": {
     "duration": 0.072355,
     "end_time": "2022-03-03T18:12:33.732683",
     "exception": false,
     "start_time": "2022-03-03T18:12:33.660328",
     "status": "completed"
    },
    "tags": []
   },
   "outputs": [
    {
     "data": {
      "text/plain": [
       "(18285, 4)"
      ]
     },
     "execution_count": 7,
     "metadata": {},
     "output_type": "execute_result"
    }
   ],
   "source": [
    "X.shape"
   ]
  },
  {
   "cell_type": "code",
   "execution_count": 8,
   "id": "a62ebf2d",
   "metadata": {
    "execution": {
     "iopub.execute_input": "2022-03-03T18:12:33.863493Z",
     "iopub.status.busy": "2022-03-03T18:12:33.862841Z",
     "iopub.status.idle": "2022-03-03T18:12:33.868364Z",
     "shell.execute_reply": "2022-03-03T18:12:33.868979Z",
     "shell.execute_reply.started": "2022-03-03T18:09:20.157238Z"
    },
    "papermill": {
     "duration": 0.072941,
     "end_time": "2022-03-03T18:12:33.869150",
     "exception": false,
     "start_time": "2022-03-03T18:12:33.796209",
     "status": "completed"
    },
    "tags": []
   },
   "outputs": [
    {
     "data": {
      "text/plain": [
       "(18285,)"
      ]
     },
     "execution_count": 8,
     "metadata": {},
     "output_type": "execute_result"
    }
   ],
   "source": [
    "y.shape"
   ]
  },
  {
   "cell_type": "code",
   "execution_count": 9,
   "id": "adb35d70",
   "metadata": {
    "execution": {
     "iopub.execute_input": "2022-03-03T18:12:34.000395Z",
     "iopub.status.busy": "2022-03-03T18:12:33.999698Z",
     "iopub.status.idle": "2022-03-03T18:12:40.602462Z",
     "shell.execute_reply": "2022-03-03T18:12:40.601910Z",
     "shell.execute_reply.started": "2022-03-03T18:09:20.166602Z"
    },
    "papermill": {
     "duration": 6.66965,
     "end_time": "2022-03-03T18:12:40.602617",
     "exception": false,
     "start_time": "2022-03-03T18:12:33.932967",
     "status": "completed"
    },
    "tags": []
   },
   "outputs": [],
   "source": [
    "from tensorflow.keras.layers import Embedding"
   ]
  },
  {
   "cell_type": "code",
   "execution_count": 10,
   "id": "c97c3cf6",
   "metadata": {
    "execution": {
     "iopub.execute_input": "2022-03-03T18:12:40.735171Z",
     "iopub.status.busy": "2022-03-03T18:12:40.734543Z",
     "iopub.status.idle": "2022-03-03T18:12:40.737606Z",
     "shell.execute_reply": "2022-03-03T18:12:40.738097Z",
     "shell.execute_reply.started": "2022-03-03T18:09:21.998571Z"
    },
    "papermill": {
     "duration": 0.07161,
     "end_time": "2022-03-03T18:12:40.738289",
     "exception": false,
     "start_time": "2022-03-03T18:12:40.666679",
     "status": "completed"
    },
    "tags": []
   },
   "outputs": [],
   "source": [
    "from tensorflow.keras.preprocessing.sequence import pad_sequences"
   ]
  },
  {
   "cell_type": "code",
   "execution_count": 11,
   "id": "f3962167",
   "metadata": {
    "execution": {
     "iopub.execute_input": "2022-03-03T18:12:40.869800Z",
     "iopub.status.busy": "2022-03-03T18:12:40.869006Z",
     "iopub.status.idle": "2022-03-03T18:12:40.872891Z",
     "shell.execute_reply": "2022-03-03T18:12:40.873457Z",
     "shell.execute_reply.started": "2022-03-03T18:09:22.015604Z"
    },
    "papermill": {
     "duration": 0.071053,
     "end_time": "2022-03-03T18:12:40.873620",
     "exception": false,
     "start_time": "2022-03-03T18:12:40.802567",
     "status": "completed"
    },
    "tags": []
   },
   "outputs": [],
   "source": [
    "from tensorflow.keras.preprocessing.text import one_hot"
   ]
  },
  {
   "cell_type": "code",
   "execution_count": 12,
   "id": "3f5cfbff",
   "metadata": {
    "execution": {
     "iopub.execute_input": "2022-03-03T18:12:41.006829Z",
     "iopub.status.busy": "2022-03-03T18:12:41.006111Z",
     "iopub.status.idle": "2022-03-03T18:12:41.009258Z",
     "shell.execute_reply": "2022-03-03T18:12:41.009755Z",
     "shell.execute_reply.started": "2022-03-03T18:09:22.021802Z"
    },
    "papermill": {
     "duration": 0.07238,
     "end_time": "2022-03-03T18:12:41.009945",
     "exception": false,
     "start_time": "2022-03-03T18:12:40.937565",
     "status": "completed"
    },
    "tags": []
   },
   "outputs": [],
   "source": [
    "from tensorflow.keras.models import Sequential\n",
    "from tensorflow.keras.layers import LSTM, Dense"
   ]
  },
  {
   "cell_type": "code",
   "execution_count": 13,
   "id": "d162bf4b",
   "metadata": {
    "execution": {
     "iopub.execute_input": "2022-03-03T18:12:41.144617Z",
     "iopub.status.busy": "2022-03-03T18:12:41.143957Z",
     "iopub.status.idle": "2022-03-03T18:12:41.147298Z",
     "shell.execute_reply": "2022-03-03T18:12:41.147830Z",
     "shell.execute_reply.started": "2022-03-03T18:09:22.031308Z"
    },
    "papermill": {
     "duration": 0.073816,
     "end_time": "2022-03-03T18:12:41.148010",
     "exception": false,
     "start_time": "2022-03-03T18:12:41.074194",
     "status": "completed"
    },
    "tags": []
   },
   "outputs": [],
   "source": [
    "voc_size = 5000"
   ]
  },
  {
   "cell_type": "code",
   "execution_count": 14,
   "id": "832c7808",
   "metadata": {
    "execution": {
     "iopub.execute_input": "2022-03-03T18:12:41.283622Z",
     "iopub.status.busy": "2022-03-03T18:12:41.282983Z",
     "iopub.status.idle": "2022-03-03T18:12:41.287591Z",
     "shell.execute_reply": "2022-03-03T18:12:41.288197Z",
     "shell.execute_reply.started": "2022-03-03T18:09:22.039170Z"
    },
    "papermill": {
     "duration": 0.075588,
     "end_time": "2022-03-03T18:12:41.288400",
     "exception": false,
     "start_time": "2022-03-03T18:12:41.212812",
     "status": "completed"
    },
    "tags": []
   },
   "outputs": [],
   "source": [
    "message = X.copy()"
   ]
  },
  {
   "cell_type": "code",
   "execution_count": 15,
   "id": "5eada675",
   "metadata": {
    "execution": {
     "iopub.execute_input": "2022-03-03T18:12:41.424309Z",
     "iopub.status.busy": "2022-03-03T18:12:41.423263Z",
     "iopub.status.idle": "2022-03-03T18:12:41.429453Z",
     "shell.execute_reply": "2022-03-03T18:12:41.429987Z",
     "shell.execute_reply.started": "2022-03-03T18:09:22.049579Z"
    },
    "papermill": {
     "duration": 0.076412,
     "end_time": "2022-03-03T18:12:41.430187",
     "exception": false,
     "start_time": "2022-03-03T18:12:41.353775",
     "status": "completed"
    },
    "tags": []
   },
   "outputs": [],
   "source": [
    "message.reset_index(inplace = True)"
   ]
  },
  {
   "cell_type": "code",
   "execution_count": 16,
   "id": "7db2e9ea",
   "metadata": {
    "execution": {
     "iopub.execute_input": "2022-03-03T18:12:41.563544Z",
     "iopub.status.busy": "2022-03-03T18:12:41.562810Z",
     "iopub.status.idle": "2022-03-03T18:12:42.942096Z",
     "shell.execute_reply": "2022-03-03T18:12:42.941455Z",
     "shell.execute_reply.started": "2022-03-03T18:09:22.057046Z"
    },
    "papermill": {
     "duration": 1.446867,
     "end_time": "2022-03-03T18:12:42.942275",
     "exception": false,
     "start_time": "2022-03-03T18:12:41.495408",
     "status": "completed"
    },
    "tags": []
   },
   "outputs": [],
   "source": [
    "import nltk\n",
    "import re\n",
    "from nltk.corpus import stopwords"
   ]
  },
  {
   "cell_type": "code",
   "execution_count": 17,
   "id": "ecddd50f",
   "metadata": {
    "execution": {
     "iopub.execute_input": "2022-03-03T18:12:43.081446Z",
     "iopub.status.busy": "2022-03-03T18:12:43.080786Z",
     "iopub.status.idle": "2022-03-03T18:12:43.237928Z",
     "shell.execute_reply": "2022-03-03T18:12:43.238433Z",
     "shell.execute_reply.started": "2022-03-03T18:09:22.463549Z"
    },
    "papermill": {
     "duration": 0.230115,
     "end_time": "2022-03-03T18:12:43.238628",
     "exception": false,
     "start_time": "2022-03-03T18:12:43.008513",
     "status": "completed"
    },
    "tags": []
   },
   "outputs": [
    {
     "name": "stdout",
     "output_type": "stream",
     "text": [
      "[nltk_data] Downloading package stopwords to /usr/share/nltk_data...\n",
      "[nltk_data]   Package stopwords is already up-to-date!\n"
     ]
    },
    {
     "data": {
      "text/plain": [
       "True"
      ]
     },
     "execution_count": 17,
     "metadata": {},
     "output_type": "execute_result"
    }
   ],
   "source": [
    "nltk.download('stopwords')"
   ]
  },
  {
   "cell_type": "code",
   "execution_count": 18,
   "id": "4c78f63e",
   "metadata": {
    "execution": {
     "iopub.execute_input": "2022-03-03T18:12:43.374528Z",
     "iopub.status.busy": "2022-03-03T18:12:43.373889Z",
     "iopub.status.idle": "2022-03-03T18:12:43.465425Z",
     "shell.execute_reply": "2022-03-03T18:12:43.465975Z",
     "shell.execute_reply.started": "2022-03-03T18:09:22.586633Z"
    },
    "papermill": {
     "duration": 0.162096,
     "end_time": "2022-03-03T18:12:43.466174",
     "exception": false,
     "start_time": "2022-03-03T18:12:43.304078",
     "status": "completed"
    },
    "tags": []
   },
   "outputs": [
    {
     "name": "stdout",
     "output_type": "stream",
     "text": [
      "[nltk_data] Downloading package punkt to /usr/share/nltk_data...\n",
      "[nltk_data]   Package punkt is already up-to-date!\n"
     ]
    },
    {
     "data": {
      "text/plain": [
       "True"
      ]
     },
     "execution_count": 18,
     "metadata": {},
     "output_type": "execute_result"
    }
   ],
   "source": [
    "nltk.download('punkt')"
   ]
  },
  {
   "cell_type": "code",
   "execution_count": 19,
   "id": "734c0763",
   "metadata": {
    "execution": {
     "iopub.execute_input": "2022-03-03T18:12:43.607452Z",
     "iopub.status.busy": "2022-03-03T18:12:43.605687Z",
     "iopub.status.idle": "2022-03-03T18:12:43.609675Z",
     "shell.execute_reply": "2022-03-03T18:12:43.610300Z",
     "shell.execute_reply.started": "2022-03-03T18:09:22.624020Z"
    },
    "papermill": {
     "duration": 0.076632,
     "end_time": "2022-03-03T18:12:43.610493",
     "exception": false,
     "start_time": "2022-03-03T18:12:43.533861",
     "status": "completed"
    },
    "tags": []
   },
   "outputs": [],
   "source": [
    "\n",
    "\n",
    "from nltk.stem.porter import PorterStemmer\n",
    "ps = PorterStemmer()\n",
    "\n"
   ]
  },
  {
   "cell_type": "code",
   "execution_count": 20,
   "id": "4e609dbe",
   "metadata": {
    "execution": {
     "iopub.execute_input": "2022-03-03T18:12:43.746399Z",
     "iopub.status.busy": "2022-03-03T18:12:43.745322Z",
     "iopub.status.idle": "2022-03-03T18:13:19.364105Z",
     "shell.execute_reply": "2022-03-03T18:13:19.364660Z",
     "shell.execute_reply.started": "2022-03-03T18:09:22.629369Z"
    },
    "papermill": {
     "duration": 35.687919,
     "end_time": "2022-03-03T18:13:19.364948",
     "exception": false,
     "start_time": "2022-03-03T18:12:43.677029",
     "status": "completed"
    },
    "tags": []
   },
   "outputs": [],
   "source": [
    "\n",
    "\n",
    "corpus = []\n",
    "for i in range(0, len(message)):\n",
    "   \n",
    "    review = re.sub('[^a-zA-Z]', ' ', message['title'][i])\n",
    "    review = review.lower()\n",
    "    review = review.split()\n",
    "    \n",
    "    review = [ps.stem(word) for word in review if not word in stopwords.words('english')]\n",
    "    review = ' '.join(review)\n",
    "    corpus.append(review)\n",
    "    \n",
    "\n"
   ]
  },
  {
   "cell_type": "code",
   "execution_count": 21,
   "id": "8926ccf6",
   "metadata": {
    "execution": {
     "iopub.execute_input": "2022-03-03T18:13:19.504162Z",
     "iopub.status.busy": "2022-03-03T18:13:19.503287Z",
     "iopub.status.idle": "2022-03-03T18:13:19.508333Z",
     "shell.execute_reply": "2022-03-03T18:13:19.507611Z",
     "shell.execute_reply.started": "2022-03-03T18:09:54.469847Z"
    },
    "papermill": {
     "duration": 0.075739,
     "end_time": "2022-03-03T18:13:19.508507",
     "exception": false,
     "start_time": "2022-03-03T18:13:19.432768",
     "status": "completed"
    },
    "tags": []
   },
   "outputs": [],
   "source": [
    "from tensorflow.keras.layers import Bidirectional"
   ]
  },
  {
   "cell_type": "code",
   "execution_count": 22,
   "id": "3653dd87",
   "metadata": {
    "execution": {
     "iopub.execute_input": "2022-03-03T18:13:19.646884Z",
     "iopub.status.busy": "2022-03-03T18:13:19.646256Z",
     "iopub.status.idle": "2022-03-03T18:13:19.650611Z",
     "shell.execute_reply": "2022-03-03T18:13:19.651142Z",
     "shell.execute_reply.started": "2022-03-03T18:09:54.474276Z"
    },
    "papermill": {
     "duration": 0.07594,
     "end_time": "2022-03-03T18:13:19.651338",
     "exception": false,
     "start_time": "2022-03-03T18:13:19.575398",
     "status": "completed"
    },
    "tags": []
   },
   "outputs": [
    {
     "data": {
      "text/plain": [
       "18285"
      ]
     },
     "execution_count": 22,
     "metadata": {},
     "output_type": "execute_result"
    }
   ],
   "source": [
    "len(corpus)"
   ]
  },
  {
   "cell_type": "code",
   "execution_count": 23,
   "id": "53cb4d4d",
   "metadata": {
    "execution": {
     "iopub.execute_input": "2022-03-03T18:13:19.793774Z",
     "iopub.status.busy": "2022-03-03T18:13:19.792951Z",
     "iopub.status.idle": "2022-03-03T18:13:19.796313Z",
     "shell.execute_reply": "2022-03-03T18:13:19.796846Z",
     "shell.execute_reply.started": "2022-03-03T18:09:54.489440Z"
    },
    "papermill": {
     "duration": 0.07747,
     "end_time": "2022-03-03T18:13:19.797028",
     "exception": false,
     "start_time": "2022-03-03T18:13:19.719558",
     "status": "completed"
    },
    "tags": []
   },
   "outputs": [
    {
     "data": {
      "text/plain": [
       "'House Dem Aide: We Didn’t Even See Comey’s Letter Until Jason Chaffetz Tweeted It'"
      ]
     },
     "execution_count": 23,
     "metadata": {},
     "output_type": "execute_result"
    }
   ],
   "source": [
    "message['title'][0]"
   ]
  },
  {
   "cell_type": "code",
   "execution_count": 24,
   "id": "d8591cca",
   "metadata": {
    "execution": {
     "iopub.execute_input": "2022-03-03T18:13:19.938664Z",
     "iopub.status.busy": "2022-03-03T18:13:19.938026Z",
     "iopub.status.idle": "2022-03-03T18:13:20.189689Z",
     "shell.execute_reply": "2022-03-03T18:13:20.189120Z",
     "shell.execute_reply.started": "2022-03-03T18:09:54.498026Z"
    },
    "papermill": {
     "duration": 0.326275,
     "end_time": "2022-03-03T18:13:20.189887",
     "exception": false,
     "start_time": "2022-03-03T18:13:19.863612",
     "status": "completed"
    },
    "tags": []
   },
   "outputs": [],
   "source": [
    "onehot_repr = [one_hot(words, voc_size) for words in corpus]"
   ]
  },
  {
   "cell_type": "code",
   "execution_count": 25,
   "id": "1473e4af",
   "metadata": {
    "execution": {
     "iopub.execute_input": "2022-03-03T18:13:20.328381Z",
     "iopub.status.busy": "2022-03-03T18:13:20.327421Z",
     "iopub.status.idle": "2022-03-03T18:13:20.429542Z",
     "shell.execute_reply": "2022-03-03T18:13:20.430084Z",
     "shell.execute_reply.started": "2022-03-03T18:09:54.731373Z"
    },
    "papermill": {
     "duration": 0.173737,
     "end_time": "2022-03-03T18:13:20.430260",
     "exception": false,
     "start_time": "2022-03-03T18:13:20.256523",
     "status": "completed"
    },
    "tags": []
   },
   "outputs": [],
   "source": [
    "sent_length = 20\n",
    "embeded_docs = pad_sequences(onehot_repr, padding = \"pre\", maxlen = sent_length)"
   ]
  },
  {
   "cell_type": "code",
   "execution_count": 26,
   "id": "951f8c66",
   "metadata": {
    "execution": {
     "iopub.execute_input": "2022-03-03T18:13:20.571492Z",
     "iopub.status.busy": "2022-03-03T18:13:20.566643Z",
     "iopub.status.idle": "2022-03-03T18:13:20.575580Z",
     "shell.execute_reply": "2022-03-03T18:13:20.575072Z",
     "shell.execute_reply.started": "2022-03-03T18:09:54.840326Z"
    },
    "papermill": {
     "duration": 0.078753,
     "end_time": "2022-03-03T18:13:20.575741",
     "exception": false,
     "start_time": "2022-03-03T18:13:20.496988",
     "status": "completed"
    },
    "tags": []
   },
   "outputs": [
    {
     "data": {
      "text/plain": [
       "array([   0,    0,    0,    0,    0,    0,    0,    0,    0,    0,  196,\n",
       "       4104,  553, 2754, 1178, 4506, 4581,  999,  623, 1015], dtype=int32)"
      ]
     },
     "execution_count": 26,
     "metadata": {},
     "output_type": "execute_result"
    }
   ],
   "source": [
    "embeded_docs[0]"
   ]
  },
  {
   "cell_type": "code",
   "execution_count": 27,
   "id": "2209283e",
   "metadata": {
    "execution": {
     "iopub.execute_input": "2022-03-03T18:13:20.715165Z",
     "iopub.status.busy": "2022-03-03T18:13:20.714197Z",
     "iopub.status.idle": "2022-03-03T18:13:20.783573Z",
     "shell.execute_reply": "2022-03-03T18:13:20.784238Z",
     "shell.execute_reply.started": "2022-03-03T18:09:54.850277Z"
    },
    "papermill": {
     "duration": 0.141861,
     "end_time": "2022-03-03T18:13:20.784467",
     "exception": false,
     "start_time": "2022-03-03T18:13:20.642606",
     "status": "completed"
    },
    "tags": []
   },
   "outputs": [
    {
     "name": "stderr",
     "output_type": "stream",
     "text": [
      "2022-03-03 18:13:20.751958: I tensorflow/core/common_runtime/process_util.cc:146] Creating new thread pool with default inter op setting: 2. Tune using inter_op_parallelism_threads for best performance.\n"
     ]
    }
   ],
   "source": [
    "dims = 40\n",
    "model = Sequential()"
   ]
  },
  {
   "cell_type": "code",
   "execution_count": 28,
   "id": "c5dd35fc",
   "metadata": {
    "execution": {
     "iopub.execute_input": "2022-03-03T18:13:20.928169Z",
     "iopub.status.busy": "2022-03-03T18:13:20.927032Z",
     "iopub.status.idle": "2022-03-03T18:13:20.988208Z",
     "shell.execute_reply": "2022-03-03T18:13:20.987575Z",
     "shell.execute_reply.started": "2022-03-03T18:09:54.862188Z"
    },
    "papermill": {
     "duration": 0.134149,
     "end_time": "2022-03-03T18:13:20.988374",
     "exception": false,
     "start_time": "2022-03-03T18:13:20.854225",
     "status": "completed"
    },
    "tags": []
   },
   "outputs": [],
   "source": [
    "model.add(Embedding(voc_size, dims, input_length = sent_length))"
   ]
  },
  {
   "cell_type": "code",
   "execution_count": 29,
   "id": "9cdc1566",
   "metadata": {
    "execution": {
     "iopub.execute_input": "2022-03-03T18:13:21.146257Z",
     "iopub.status.busy": "2022-03-03T18:13:21.145494Z",
     "iopub.status.idle": "2022-03-03T18:13:21.858351Z",
     "shell.execute_reply": "2022-03-03T18:13:21.857690Z",
     "shell.execute_reply.started": "2022-03-03T18:09:54.888079Z"
    },
    "papermill": {
     "duration": 0.802197,
     "end_time": "2022-03-03T18:13:21.858498",
     "exception": false,
     "start_time": "2022-03-03T18:13:21.056301",
     "status": "completed"
    },
    "tags": []
   },
   "outputs": [],
   "source": [
    "model.add(Bidirectional(LSTM(100)))\n",
    "model.add(Dense(1, activation = \"sigmoid\"))"
   ]
  },
  {
   "cell_type": "code",
   "execution_count": 30,
   "id": "0816f241",
   "metadata": {
    "execution": {
     "iopub.execute_input": "2022-03-03T18:13:21.997416Z",
     "iopub.status.busy": "2022-03-03T18:13:21.996780Z",
     "iopub.status.idle": "2022-03-03T18:13:22.017316Z",
     "shell.execute_reply": "2022-03-03T18:13:22.018061Z",
     "shell.execute_reply.started": "2022-03-03T18:09:55.302490Z"
    },
    "papermill": {
     "duration": 0.092133,
     "end_time": "2022-03-03T18:13:22.018304",
     "exception": false,
     "start_time": "2022-03-03T18:13:21.926171",
     "status": "completed"
    },
    "tags": []
   },
   "outputs": [
    {
     "name": "stdout",
     "output_type": "stream",
     "text": [
      "Model: \"sequential\"\n",
      "_________________________________________________________________\n",
      "Layer (type)                 Output Shape              Param #   \n",
      "=================================================================\n",
      "embedding (Embedding)        (None, 20, 40)            200000    \n",
      "_________________________________________________________________\n",
      "bidirectional (Bidirectional (None, 200)               112800    \n",
      "_________________________________________________________________\n",
      "dense (Dense)                (None, 1)                 201       \n",
      "=================================================================\n",
      "Total params: 313,001\n",
      "Trainable params: 313,001\n",
      "Non-trainable params: 0\n",
      "_________________________________________________________________\n",
      "None\n"
     ]
    }
   ],
   "source": [
    "model.compile(loss = 'binary_crossentropy', optimizer = 'adam', metrics = ['accuracy'])\n",
    "print(model.summary())"
   ]
  },
  {
   "cell_type": "code",
   "execution_count": 31,
   "id": "803c9fa9",
   "metadata": {
    "execution": {
     "iopub.execute_input": "2022-03-03T18:13:22.161055Z",
     "iopub.status.busy": "2022-03-03T18:13:22.159213Z",
     "iopub.status.idle": "2022-03-03T18:13:22.165842Z",
     "shell.execute_reply": "2022-03-03T18:13:22.165124Z",
     "shell.execute_reply.started": "2022-03-03T18:09:55.319900Z"
    },
    "papermill": {
     "duration": 0.079296,
     "end_time": "2022-03-03T18:13:22.165989",
     "exception": false,
     "start_time": "2022-03-03T18:13:22.086693",
     "status": "completed"
    },
    "tags": []
   },
   "outputs": [],
   "source": [
    "X_final = np.array(embeded_docs)"
   ]
  },
  {
   "cell_type": "code",
   "execution_count": 32,
   "id": "f74a5403",
   "metadata": {
    "execution": {
     "iopub.execute_input": "2022-03-03T18:13:22.340384Z",
     "iopub.status.busy": "2022-03-03T18:13:22.339459Z",
     "iopub.status.idle": "2022-03-03T18:13:22.341391Z",
     "shell.execute_reply": "2022-03-03T18:13:22.342142Z",
     "shell.execute_reply.started": "2022-03-03T18:09:55.326131Z"
    },
    "papermill": {
     "duration": 0.096928,
     "end_time": "2022-03-03T18:13:22.342391",
     "exception": false,
     "start_time": "2022-03-03T18:13:22.245463",
     "status": "completed"
    },
    "tags": []
   },
   "outputs": [],
   "source": [
    "y_final = np.array(y)"
   ]
  },
  {
   "cell_type": "code",
   "execution_count": 33,
   "id": "3930e821",
   "metadata": {
    "execution": {
     "iopub.execute_input": "2022-03-03T18:13:22.499973Z",
     "iopub.status.busy": "2022-03-03T18:13:22.498876Z",
     "iopub.status.idle": "2022-03-03T18:13:22.501089Z",
     "shell.execute_reply": "2022-03-03T18:13:22.501605Z",
     "shell.execute_reply.started": "2022-03-03T18:09:55.334565Z"
    },
    "papermill": {
     "duration": 0.080315,
     "end_time": "2022-03-03T18:13:22.501818",
     "exception": false,
     "start_time": "2022-03-03T18:13:22.421503",
     "status": "completed"
    },
    "tags": []
   },
   "outputs": [],
   "source": [
    "from sklearn.model_selection import train_test_split"
   ]
  },
  {
   "cell_type": "code",
   "execution_count": 34,
   "id": "a084ffb8",
   "metadata": {
    "execution": {
     "iopub.execute_input": "2022-03-03T18:13:22.650365Z",
     "iopub.status.busy": "2022-03-03T18:13:22.649372Z",
     "iopub.status.idle": "2022-03-03T18:13:22.658795Z",
     "shell.execute_reply": "2022-03-03T18:13:22.659342Z",
     "shell.execute_reply.started": "2022-03-03T18:09:55.342331Z"
    },
    "papermill": {
     "duration": 0.081585,
     "end_time": "2022-03-03T18:13:22.659537",
     "exception": false,
     "start_time": "2022-03-03T18:13:22.577952",
     "status": "completed"
    },
    "tags": []
   },
   "outputs": [],
   "source": [
    "X_train, X_test, y_train, y_test = train_test_split(X_final, y_final, test_size=0.33, random_state=42)"
   ]
  },
  {
   "cell_type": "code",
   "execution_count": 35,
   "id": "6eb25ee6",
   "metadata": {
    "execution": {
     "iopub.execute_input": "2022-03-03T18:13:22.800960Z",
     "iopub.status.busy": "2022-03-03T18:13:22.800010Z",
     "iopub.status.idle": "2022-03-03T18:15:04.798437Z",
     "shell.execute_reply": "2022-03-03T18:15:04.799066Z",
     "shell.execute_reply.started": "2022-03-03T18:09:55.354487Z"
    },
    "papermill": {
     "duration": 102.070986,
     "end_time": "2022-03-03T18:15:04.799316",
     "exception": false,
     "start_time": "2022-03-03T18:13:22.728330",
     "status": "completed"
    },
    "tags": []
   },
   "outputs": [
    {
     "name": "stderr",
     "output_type": "stream",
     "text": [
      "2022-03-03 18:13:22.861845: I tensorflow/compiler/mlir/mlir_graph_optimization_pass.cc:185] None of the MLIR Optimization Passes are enabled (registered 2)\n"
     ]
    },
    {
     "name": "stdout",
     "output_type": "stream",
     "text": [
      "Epoch 1/10\n",
      "192/192 [==============================] - 15s 55ms/step - loss: 0.2884 - accuracy: 0.8681 - val_loss: 0.2122 - val_accuracy: 0.9150\n",
      "Epoch 2/10\n",
      "192/192 [==============================] - 9s 49ms/step - loss: 0.1346 - accuracy: 0.9472 - val_loss: 0.2029 - val_accuracy: 0.9176\n",
      "Epoch 3/10\n",
      "192/192 [==============================] - 10s 53ms/step - loss: 0.0957 - accuracy: 0.9638 - val_loss: 0.2433 - val_accuracy: 0.9150\n",
      "Epoch 4/10\n",
      "192/192 [==============================] - 9s 49ms/step - loss: 0.0680 - accuracy: 0.9757 - val_loss: 0.2932 - val_accuracy: 0.9137\n",
      "Epoch 5/10\n",
      "192/192 [==============================] - 9s 49ms/step - loss: 0.0449 - accuracy: 0.9823 - val_loss: 0.3390 - val_accuracy: 0.9123\n",
      "Epoch 6/10\n",
      "192/192 [==============================] - 10s 52ms/step - loss: 0.0335 - accuracy: 0.9882 - val_loss: 0.4227 - val_accuracy: 0.9099\n",
      "Epoch 7/10\n",
      "192/192 [==============================] - 10s 50ms/step - loss: 0.0224 - accuracy: 0.9920 - val_loss: 0.4436 - val_accuracy: 0.9067\n",
      "Epoch 8/10\n",
      "192/192 [==============================] - 9s 49ms/step - loss: 0.0114 - accuracy: 0.9967 - val_loss: 0.4633 - val_accuracy: 0.9127\n",
      "Epoch 9/10\n",
      "192/192 [==============================] - 9s 49ms/step - loss: 0.0118 - accuracy: 0.9967 - val_loss: 0.4998 - val_accuracy: 0.9099\n",
      "Epoch 10/10\n",
      "192/192 [==============================] - 10s 54ms/step - loss: 0.0106 - accuracy: 0.9970 - val_loss: 0.5228 - val_accuracy: 0.9077\n"
     ]
    },
    {
     "data": {
      "text/plain": [
       "<keras.callbacks.History at 0x7f852885e6d0>"
      ]
     },
     "execution_count": 35,
     "metadata": {},
     "output_type": "execute_result"
    }
   ],
   "source": [
    "model.fit(X_train, y_train, validation_data = (X_test, y_test), epochs = 10, batch_size = 64)"
   ]
  },
  {
   "cell_type": "code",
   "execution_count": 36,
   "id": "dd1376dc",
   "metadata": {
    "execution": {
     "iopub.execute_input": "2022-03-03T18:15:05.675087Z",
     "iopub.status.busy": "2022-03-03T18:15:05.673373Z",
     "iopub.status.idle": "2022-03-03T18:15:08.398006Z",
     "shell.execute_reply": "2022-03-03T18:15:08.397168Z",
     "shell.execute_reply.started": "2022-03-03T18:11:03.516433Z"
    },
    "papermill": {
     "duration": 3.162028,
     "end_time": "2022-03-03T18:15:08.398196",
     "exception": false,
     "start_time": "2022-03-03T18:15:05.236168",
     "status": "completed"
    },
    "tags": []
   },
   "outputs": [],
   "source": [
    "y_pred = model.predict(X_test)"
   ]
  },
  {
   "cell_type": "code",
   "execution_count": 37,
   "id": "e4835bd7",
   "metadata": {
    "execution": {
     "iopub.execute_input": "2022-03-03T18:15:09.278640Z",
     "iopub.status.busy": "2022-03-03T18:15:09.277978Z",
     "iopub.status.idle": "2022-03-03T18:15:09.282123Z",
     "shell.execute_reply": "2022-03-03T18:15:09.282652Z",
     "shell.execute_reply.started": "2022-03-03T18:11:05.354886Z"
    },
    "papermill": {
     "duration": 0.44675,
     "end_time": "2022-03-03T18:15:09.282877",
     "exception": false,
     "start_time": "2022-03-03T18:15:08.836127",
     "status": "completed"
    },
    "tags": []
   },
   "outputs": [],
   "source": [
    "threshold = 0.5\n",
    "a = np.where(y_pred>=threshold, 1,0)"
   ]
  },
  {
   "cell_type": "code",
   "execution_count": 38,
   "id": "727ddb7e",
   "metadata": {
    "execution": {
     "iopub.execute_input": "2022-03-03T18:15:10.154365Z",
     "iopub.status.busy": "2022-03-03T18:15:10.153708Z",
     "iopub.status.idle": "2022-03-03T18:15:10.157362Z",
     "shell.execute_reply": "2022-03-03T18:15:10.157931Z",
     "shell.execute_reply.started": "2022-03-03T18:11:05.359817Z"
    },
    "papermill": {
     "duration": 0.44362,
     "end_time": "2022-03-03T18:15:10.158126",
     "exception": false,
     "start_time": "2022-03-03T18:15:09.714506",
     "status": "completed"
    },
    "tags": []
   },
   "outputs": [],
   "source": [
    "from sklearn.metrics import accuracy_score"
   ]
  },
  {
   "cell_type": "code",
   "execution_count": 39,
   "id": "0834d524",
   "metadata": {
    "execution": {
     "iopub.execute_input": "2022-03-03T18:15:11.021339Z",
     "iopub.status.busy": "2022-03-03T18:15:11.020595Z",
     "iopub.status.idle": "2022-03-03T18:15:11.029154Z",
     "shell.execute_reply": "2022-03-03T18:15:11.028046Z",
     "shell.execute_reply.started": "2022-03-03T18:11:05.370906Z"
    },
    "papermill": {
     "duration": 0.438472,
     "end_time": "2022-03-03T18:15:11.029423",
     "exception": false,
     "start_time": "2022-03-03T18:15:10.590951",
     "status": "completed"
    },
    "tags": []
   },
   "outputs": [
    {
     "name": "stdout",
     "output_type": "stream",
     "text": [
      "0.907705053852527\n"
     ]
    }
   ],
   "source": [
    "print(accuracy_score(y_test, a))"
   ]
  },
  {
   "cell_type": "code",
   "execution_count": 40,
   "id": "47d98e11",
   "metadata": {
    "execution": {
     "iopub.execute_input": "2022-03-03T18:15:11.904971Z",
     "iopub.status.busy": "2022-03-03T18:15:11.904230Z",
     "iopub.status.idle": "2022-03-03T18:15:12.609885Z",
     "shell.execute_reply": "2022-03-03T18:15:12.609212Z",
     "shell.execute_reply.started": "2022-03-03T18:11:05.383678Z"
    },
    "papermill": {
     "duration": 1.14664,
     "end_time": "2022-03-03T18:15:12.610076",
     "exception": false,
     "start_time": "2022-03-03T18:15:11.463436",
     "status": "completed"
    },
    "tags": []
   },
   "outputs": [],
   "source": [
    "df_test = pd.read_csv('/kaggle/input/fake-news/test.csv')"
   ]
  },
  {
   "cell_type": "code",
   "execution_count": 41,
   "id": "30614b6d",
   "metadata": {
    "execution": {
     "iopub.execute_input": "2022-03-03T18:15:13.532880Z",
     "iopub.status.busy": "2022-03-03T18:15:13.531959Z",
     "iopub.status.idle": "2022-03-03T18:15:13.537464Z",
     "shell.execute_reply": "2022-03-03T18:15:13.537995Z",
     "shell.execute_reply.started": "2022-03-03T18:11:05.692041Z"
    },
    "papermill": {
     "duration": 0.46875,
     "end_time": "2022-03-03T18:15:13.538260",
     "exception": false,
     "start_time": "2022-03-03T18:15:13.069510",
     "status": "completed"
    },
    "tags": []
   },
   "outputs": [
    {
     "data": {
      "text/html": [
       "<div>\n",
       "<style scoped>\n",
       "    .dataframe tbody tr th:only-of-type {\n",
       "        vertical-align: middle;\n",
       "    }\n",
       "\n",
       "    .dataframe tbody tr th {\n",
       "        vertical-align: top;\n",
       "    }\n",
       "\n",
       "    .dataframe thead th {\n",
       "        text-align: right;\n",
       "    }\n",
       "</style>\n",
       "<table border=\"1\" class=\"dataframe\">\n",
       "  <thead>\n",
       "    <tr style=\"text-align: right;\">\n",
       "      <th></th>\n",
       "      <th>id</th>\n",
       "      <th>title</th>\n",
       "      <th>author</th>\n",
       "      <th>text</th>\n",
       "    </tr>\n",
       "  </thead>\n",
       "  <tbody>\n",
       "    <tr>\n",
       "      <th>0</th>\n",
       "      <td>20800</td>\n",
       "      <td>Specter of Trump Loosens Tongues, if Not Purse...</td>\n",
       "      <td>David Streitfeld</td>\n",
       "      <td>PALO ALTO, Calif.  —   After years of scorning...</td>\n",
       "    </tr>\n",
       "    <tr>\n",
       "      <th>1</th>\n",
       "      <td>20801</td>\n",
       "      <td>Russian warships ready to strike terrorists ne...</td>\n",
       "      <td>NaN</td>\n",
       "      <td>Russian warships ready to strike terrorists ne...</td>\n",
       "    </tr>\n",
       "    <tr>\n",
       "      <th>2</th>\n",
       "      <td>20802</td>\n",
       "      <td>#NoDAPL: Native American Leaders Vow to Stay A...</td>\n",
       "      <td>Common Dreams</td>\n",
       "      <td>Videos #NoDAPL: Native American Leaders Vow to...</td>\n",
       "    </tr>\n",
       "    <tr>\n",
       "      <th>3</th>\n",
       "      <td>20803</td>\n",
       "      <td>Tim Tebow Will Attempt Another Comeback, This ...</td>\n",
       "      <td>Daniel Victor</td>\n",
       "      <td>If at first you don’t succeed, try a different...</td>\n",
       "    </tr>\n",
       "    <tr>\n",
       "      <th>4</th>\n",
       "      <td>20804</td>\n",
       "      <td>Keiser Report: Meme Wars (E995)</td>\n",
       "      <td>Truth Broadcast Network</td>\n",
       "      <td>42 mins ago 1 Views 0 Comments 0 Likes 'For th...</td>\n",
       "    </tr>\n",
       "  </tbody>\n",
       "</table>\n",
       "</div>"
      ],
      "text/plain": [
       "      id                                              title  \\\n",
       "0  20800  Specter of Trump Loosens Tongues, if Not Purse...   \n",
       "1  20801  Russian warships ready to strike terrorists ne...   \n",
       "2  20802  #NoDAPL: Native American Leaders Vow to Stay A...   \n",
       "3  20803  Tim Tebow Will Attempt Another Comeback, This ...   \n",
       "4  20804                    Keiser Report: Meme Wars (E995)   \n",
       "\n",
       "                    author                                               text  \n",
       "0         David Streitfeld  PALO ALTO, Calif.  —   After years of scorning...  \n",
       "1                      NaN  Russian warships ready to strike terrorists ne...  \n",
       "2            Common Dreams  Videos #NoDAPL: Native American Leaders Vow to...  \n",
       "3            Daniel Victor  If at first you don’t succeed, try a different...  \n",
       "4  Truth Broadcast Network  42 mins ago 1 Views 0 Comments 0 Likes 'For th...  "
      ]
     },
     "execution_count": 41,
     "metadata": {},
     "output_type": "execute_result"
    }
   ],
   "source": [
    "df_test.head()"
   ]
  },
  {
   "cell_type": "code",
   "execution_count": 42,
   "id": "ef1f9eb9",
   "metadata": {
    "execution": {
     "iopub.execute_input": "2022-03-03T18:15:14.416281Z",
     "iopub.status.busy": "2022-03-03T18:15:14.415359Z",
     "iopub.status.idle": "2022-03-03T18:15:14.419872Z",
     "shell.execute_reply": "2022-03-03T18:15:14.419206Z",
     "shell.execute_reply.started": "2022-03-03T18:11:05.704085Z"
    },
    "papermill": {
     "duration": 0.446689,
     "end_time": "2022-03-03T18:15:14.420028",
     "exception": false,
     "start_time": "2022-03-03T18:15:13.973339",
     "status": "completed"
    },
    "tags": []
   },
   "outputs": [
    {
     "data": {
      "text/plain": [
       "(5200, 4)"
      ]
     },
     "execution_count": 42,
     "metadata": {},
     "output_type": "execute_result"
    }
   ],
   "source": [
    "df_test.shape"
   ]
  },
  {
   "cell_type": "code",
   "execution_count": 43,
   "id": "45933627",
   "metadata": {
    "execution": {
     "iopub.execute_input": "2022-03-03T18:15:15.292221Z",
     "iopub.status.busy": "2022-03-03T18:15:15.291349Z",
     "iopub.status.idle": "2022-03-03T18:15:15.294952Z",
     "shell.execute_reply": "2022-03-03T18:15:15.295507Z",
     "shell.execute_reply.started": "2022-03-03T18:11:05.713413Z"
    },
    "papermill": {
     "duration": 0.445753,
     "end_time": "2022-03-03T18:15:15.295759",
     "exception": false,
     "start_time": "2022-03-03T18:15:14.850006",
     "status": "completed"
    },
    "tags": []
   },
   "outputs": [
    {
     "data": {
      "text/plain": [
       "id          0\n",
       "title     122\n",
       "author    503\n",
       "text        7\n",
       "dtype: int64"
      ]
     },
     "execution_count": 43,
     "metadata": {},
     "output_type": "execute_result"
    }
   ],
   "source": [
    "df_test.isnull().sum()"
   ]
  },
  {
   "cell_type": "raw",
   "id": "c4e17af6",
   "metadata": {
    "execution": {
     "iopub.execute_input": "2022-03-03T17:52:27.027084Z",
     "iopub.status.busy": "2022-03-03T17:52:27.026823Z",
     "iopub.status.idle": "2022-03-03T17:52:27.048375Z",
     "shell.execute_reply": "2022-03-03T17:52:27.047693Z",
     "shell.execute_reply.started": "2022-03-03T17:52:27.02705Z"
    },
    "papermill": {
     "duration": 0.431845,
     "end_time": "2022-03-03T18:15:16.156937",
     "exception": false,
     "start_time": "2022-03-03T18:15:15.725092",
     "status": "completed"
    },
    "tags": []
   },
   "source": []
  },
  {
   "cell_type": "code",
   "execution_count": 44,
   "id": "998e656d",
   "metadata": {
    "execution": {
     "iopub.execute_input": "2022-03-03T18:15:17.028316Z",
     "iopub.status.busy": "2022-03-03T18:15:17.018205Z",
     "iopub.status.idle": "2022-03-03T18:15:17.030273Z",
     "shell.execute_reply": "2022-03-03T18:15:17.030886Z",
     "shell.execute_reply.started": "2022-03-03T18:11:05.726649Z"
    },
    "papermill": {
     "duration": 0.44714,
     "end_time": "2022-03-03T18:15:17.031061",
     "exception": false,
     "start_time": "2022-03-03T18:15:16.583921",
     "status": "completed"
    },
    "tags": []
   },
   "outputs": [],
   "source": [
    "df_test['title'] = df_test['title'].fillna(df_test['title'].mode()[0])"
   ]
  },
  {
   "cell_type": "code",
   "execution_count": 45,
   "id": "69c0a613",
   "metadata": {
    "execution": {
     "iopub.execute_input": "2022-03-03T18:15:17.890844Z",
     "iopub.status.busy": "2022-03-03T18:15:17.890131Z",
     "iopub.status.idle": "2022-03-03T18:15:17.903660Z",
     "shell.execute_reply": "2022-03-03T18:15:17.903119Z",
     "shell.execute_reply.started": "2022-03-03T18:11:05.739467Z"
    },
    "papermill": {
     "duration": 0.444748,
     "end_time": "2022-03-03T18:15:17.903863",
     "exception": false,
     "start_time": "2022-03-03T18:15:17.459115",
     "status": "completed"
    },
    "tags": []
   },
   "outputs": [
    {
     "data": {
      "text/plain": [
       "id          0\n",
       "title       0\n",
       "author    503\n",
       "text        7\n",
       "dtype: int64"
      ]
     },
     "execution_count": 45,
     "metadata": {},
     "output_type": "execute_result"
    }
   ],
   "source": [
    "df_test.isnull().sum()"
   ]
  },
  {
   "cell_type": "code",
   "execution_count": 46,
   "id": "9ace3dd8",
   "metadata": {
    "execution": {
     "iopub.execute_input": "2022-03-03T18:15:18.774997Z",
     "iopub.status.busy": "2022-03-03T18:15:18.774322Z",
     "iopub.status.idle": "2022-03-03T18:15:18.786893Z",
     "shell.execute_reply": "2022-03-03T18:15:18.786242Z",
     "shell.execute_reply.started": "2022-03-03T18:11:05.748876Z"
    },
    "papermill": {
     "duration": 0.452386,
     "end_time": "2022-03-03T18:15:18.787037",
     "exception": false,
     "start_time": "2022-03-03T18:15:18.334651",
     "status": "completed"
    },
    "tags": []
   },
   "outputs": [],
   "source": [
    "submit = pd.read_csv('/kaggle/input/fake-news/submit.csv')"
   ]
  },
  {
   "cell_type": "code",
   "execution_count": 47,
   "id": "174e8917",
   "metadata": {
    "execution": {
     "iopub.execute_input": "2022-03-03T18:15:19.720265Z",
     "iopub.status.busy": "2022-03-03T18:15:19.719560Z",
     "iopub.status.idle": "2022-03-03T18:15:19.722022Z",
     "shell.execute_reply": "2022-03-03T18:15:19.721434Z",
     "shell.execute_reply.started": "2022-03-03T18:11:05.756552Z"
    },
    "papermill": {
     "duration": 0.502053,
     "end_time": "2022-03-03T18:15:19.722168",
     "exception": false,
     "start_time": "2022-03-03T18:15:19.220115",
     "status": "completed"
    },
    "tags": []
   },
   "outputs": [],
   "source": [
    "messages = df_test"
   ]
  },
  {
   "cell_type": "code",
   "execution_count": 48,
   "id": "5018a8f4",
   "metadata": {
    "execution": {
     "iopub.execute_input": "2022-03-03T18:15:20.595010Z",
     "iopub.status.busy": "2022-03-03T18:15:20.594008Z",
     "iopub.status.idle": "2022-03-03T18:15:20.598154Z",
     "shell.execute_reply": "2022-03-03T18:15:20.597639Z",
     "shell.execute_reply.started": "2022-03-03T18:11:05.761282Z"
    },
    "papermill": {
     "duration": 0.446672,
     "end_time": "2022-03-03T18:15:20.598297",
     "exception": false,
     "start_time": "2022-03-03T18:15:20.151625",
     "status": "completed"
    },
    "tags": []
   },
   "outputs": [
    {
     "data": {
      "text/html": [
       "<div>\n",
       "<style scoped>\n",
       "    .dataframe tbody tr th:only-of-type {\n",
       "        vertical-align: middle;\n",
       "    }\n",
       "\n",
       "    .dataframe tbody tr th {\n",
       "        vertical-align: top;\n",
       "    }\n",
       "\n",
       "    .dataframe thead th {\n",
       "        text-align: right;\n",
       "    }\n",
       "</style>\n",
       "<table border=\"1\" class=\"dataframe\">\n",
       "  <thead>\n",
       "    <tr style=\"text-align: right;\">\n",
       "      <th></th>\n",
       "      <th>id</th>\n",
       "      <th>title</th>\n",
       "      <th>author</th>\n",
       "      <th>text</th>\n",
       "    </tr>\n",
       "  </thead>\n",
       "  <tbody>\n",
       "    <tr>\n",
       "      <th>0</th>\n",
       "      <td>20800</td>\n",
       "      <td>Specter of Trump Loosens Tongues, if Not Purse...</td>\n",
       "      <td>David Streitfeld</td>\n",
       "      <td>PALO ALTO, Calif.  —   After years of scorning...</td>\n",
       "    </tr>\n",
       "    <tr>\n",
       "      <th>1</th>\n",
       "      <td>20801</td>\n",
       "      <td>Russian warships ready to strike terrorists ne...</td>\n",
       "      <td>NaN</td>\n",
       "      <td>Russian warships ready to strike terrorists ne...</td>\n",
       "    </tr>\n",
       "    <tr>\n",
       "      <th>2</th>\n",
       "      <td>20802</td>\n",
       "      <td>#NoDAPL: Native American Leaders Vow to Stay A...</td>\n",
       "      <td>Common Dreams</td>\n",
       "      <td>Videos #NoDAPL: Native American Leaders Vow to...</td>\n",
       "    </tr>\n",
       "    <tr>\n",
       "      <th>3</th>\n",
       "      <td>20803</td>\n",
       "      <td>Tim Tebow Will Attempt Another Comeback, This ...</td>\n",
       "      <td>Daniel Victor</td>\n",
       "      <td>If at first you don’t succeed, try a different...</td>\n",
       "    </tr>\n",
       "    <tr>\n",
       "      <th>4</th>\n",
       "      <td>20804</td>\n",
       "      <td>Keiser Report: Meme Wars (E995)</td>\n",
       "      <td>Truth Broadcast Network</td>\n",
       "      <td>42 mins ago 1 Views 0 Comments 0 Likes 'For th...</td>\n",
       "    </tr>\n",
       "  </tbody>\n",
       "</table>\n",
       "</div>"
      ],
      "text/plain": [
       "      id                                              title  \\\n",
       "0  20800  Specter of Trump Loosens Tongues, if Not Purse...   \n",
       "1  20801  Russian warships ready to strike terrorists ne...   \n",
       "2  20802  #NoDAPL: Native American Leaders Vow to Stay A...   \n",
       "3  20803  Tim Tebow Will Attempt Another Comeback, This ...   \n",
       "4  20804                    Keiser Report: Meme Wars (E995)   \n",
       "\n",
       "                    author                                               text  \n",
       "0         David Streitfeld  PALO ALTO, Calif.  —   After years of scorning...  \n",
       "1                      NaN  Russian warships ready to strike terrorists ne...  \n",
       "2            Common Dreams  Videos #NoDAPL: Native American Leaders Vow to...  \n",
       "3            Daniel Victor  If at first you don’t succeed, try a different...  \n",
       "4  Truth Broadcast Network  42 mins ago 1 Views 0 Comments 0 Likes 'For th...  "
      ]
     },
     "execution_count": 48,
     "metadata": {},
     "output_type": "execute_result"
    }
   ],
   "source": [
    "messages.head()"
   ]
  },
  {
   "cell_type": "code",
   "execution_count": 49,
   "id": "1c7849bc",
   "metadata": {
    "execution": {
     "iopub.execute_input": "2022-03-03T18:15:21.471451Z",
     "iopub.status.busy": "2022-03-03T18:15:21.470740Z",
     "iopub.status.idle": "2022-03-03T18:15:31.901517Z",
     "shell.execute_reply": "2022-03-03T18:15:31.900895Z",
     "shell.execute_reply.started": "2022-03-03T18:11:05.776450Z"
    },
    "papermill": {
     "duration": 10.871204,
     "end_time": "2022-03-03T18:15:31.901685",
     "exception": false,
     "start_time": "2022-03-03T18:15:21.030481",
     "status": "completed"
    },
    "tags": []
   },
   "outputs": [],
   "source": [
    "corpus = []\n",
    "for i in range(0, len(messages)):\n",
    "   \n",
    "    review = re.sub('[^a-zA-Z]', ' ', messages['title'][i])\n",
    "    review = review.lower()\n",
    "    review = review.split()\n",
    "    \n",
    "    review = [ps.stem(word) for word in review if not word in stopwords.words('english')]\n",
    "    review = ' '.join(review)\n",
    "    corpus.append(review)\n",
    "    "
   ]
  },
  {
   "cell_type": "code",
   "execution_count": 50,
   "id": "42b1687c",
   "metadata": {
    "execution": {
     "iopub.execute_input": "2022-03-03T18:15:32.819151Z",
     "iopub.status.busy": "2022-03-03T18:15:32.818437Z",
     "iopub.status.idle": "2022-03-03T18:15:32.825016Z",
     "shell.execute_reply": "2022-03-03T18:15:32.825688Z",
     "shell.execute_reply.started": "2022-03-03T18:11:14.729832Z"
    },
    "papermill": {
     "duration": 0.475946,
     "end_time": "2022-03-03T18:15:32.825919",
     "exception": false,
     "start_time": "2022-03-03T18:15:32.349973",
     "status": "completed"
    },
    "tags": []
   },
   "outputs": [
    {
     "data": {
      "text/plain": [
       "5200"
      ]
     },
     "execution_count": 50,
     "metadata": {},
     "output_type": "execute_result"
    }
   ],
   "source": [
    "len(corpus)"
   ]
  },
  {
   "cell_type": "code",
   "execution_count": 51,
   "id": "d48b3c34",
   "metadata": {
    "execution": {
     "iopub.execute_input": "2022-03-03T18:15:33.725334Z",
     "iopub.status.busy": "2022-03-03T18:15:33.724369Z",
     "iopub.status.idle": "2022-03-03T18:15:33.806945Z",
     "shell.execute_reply": "2022-03-03T18:15:33.806191Z",
     "shell.execute_reply.started": "2022-03-03T18:11:14.735245Z"
    },
    "papermill": {
     "duration": 0.536778,
     "end_time": "2022-03-03T18:15:33.807098",
     "exception": false,
     "start_time": "2022-03-03T18:15:33.270320",
     "status": "completed"
    },
    "tags": []
   },
   "outputs": [],
   "source": [
    "onehot_repr = [one_hot(words, voc_size) for words in corpus]"
   ]
  },
  {
   "cell_type": "code",
   "execution_count": 52,
   "id": "ba071eff",
   "metadata": {
    "execution": {
     "iopub.execute_input": "2022-03-03T18:15:34.721553Z",
     "iopub.status.busy": "2022-03-03T18:15:34.720868Z",
     "iopub.status.idle": "2022-03-03T18:15:34.753645Z",
     "shell.execute_reply": "2022-03-03T18:15:34.754214Z",
     "shell.execute_reply.started": "2022-03-03T18:11:14.815321Z"
    },
    "papermill": {
     "duration": 0.493237,
     "end_time": "2022-03-03T18:15:34.754444",
     "exception": false,
     "start_time": "2022-03-03T18:15:34.261207",
     "status": "completed"
    },
    "tags": []
   },
   "outputs": [],
   "source": [
    "sent_length = 20\n",
    "embeded_docs = pad_sequences(onehot_repr, padding = \"pre\", maxlen = sent_length)"
   ]
  },
  {
   "cell_type": "code",
   "execution_count": 53,
   "id": "f9261ef7",
   "metadata": {
    "execution": {
     "iopub.execute_input": "2022-03-03T18:15:35.684083Z",
     "iopub.status.busy": "2022-03-03T18:15:35.683380Z",
     "iopub.status.idle": "2022-03-03T18:15:35.687570Z",
     "shell.execute_reply": "2022-03-03T18:15:35.688136Z",
     "shell.execute_reply.started": "2022-03-03T18:11:14.852821Z"
    },
    "papermill": {
     "duration": 0.458887,
     "end_time": "2022-03-03T18:15:35.688318",
     "exception": false,
     "start_time": "2022-03-03T18:15:35.229431",
     "status": "completed"
    },
    "tags": []
   },
   "outputs": [],
   "source": [
    "X_test_final = np.array(embeded_docs)"
   ]
  },
  {
   "cell_type": "code",
   "execution_count": 54,
   "id": "392162d1",
   "metadata": {
    "execution": {
     "iopub.execute_input": "2022-03-03T18:15:36.603122Z",
     "iopub.status.busy": "2022-03-03T18:15:36.602403Z",
     "iopub.status.idle": "2022-03-03T18:15:38.247291Z",
     "shell.execute_reply": "2022-03-03T18:15:38.248044Z",
     "shell.execute_reply.started": "2022-03-03T18:11:14.858406Z"
    },
    "papermill": {
     "duration": 2.110322,
     "end_time": "2022-03-03T18:15:38.248253",
     "exception": false,
     "start_time": "2022-03-03T18:15:36.137931",
     "status": "completed"
    },
    "tags": []
   },
   "outputs": [],
   "source": [
    "y_pred = model.predict(X_test_final)"
   ]
  },
  {
   "cell_type": "code",
   "execution_count": 55,
   "id": "a70b9bbd",
   "metadata": {
    "execution": {
     "iopub.execute_input": "2022-03-03T18:15:39.132441Z",
     "iopub.status.busy": "2022-03-03T18:15:39.131403Z",
     "iopub.status.idle": "2022-03-03T18:15:39.133383Z",
     "shell.execute_reply": "2022-03-03T18:15:39.134015Z",
     "shell.execute_reply.started": "2022-03-03T18:11:15.921060Z"
    },
    "papermill": {
     "duration": 0.445195,
     "end_time": "2022-03-03T18:15:39.134194",
     "exception": false,
     "start_time": "2022-03-03T18:15:38.688999",
     "status": "completed"
    },
    "tags": []
   },
   "outputs": [],
   "source": [
    "threshold = 0.5\n",
    "a = np.where(y_pred>=threshold, 1,0)"
   ]
  },
  {
   "cell_type": "code",
   "execution_count": 56,
   "id": "394d5965",
   "metadata": {
    "execution": {
     "iopub.execute_input": "2022-03-03T18:15:40.007408Z",
     "iopub.status.busy": "2022-03-03T18:15:40.006448Z",
     "iopub.status.idle": "2022-03-03T18:15:40.015356Z",
     "shell.execute_reply": "2022-03-03T18:15:40.015858Z",
     "shell.execute_reply.started": "2022-03-03T18:11:15.926369Z"
    },
    "papermill": {
     "duration": 0.445468,
     "end_time": "2022-03-03T18:15:40.016031",
     "exception": false,
     "start_time": "2022-03-03T18:15:39.570563",
     "status": "completed"
    },
    "tags": []
   },
   "outputs": [
    {
     "data": {
      "text/html": [
       "<div>\n",
       "<style scoped>\n",
       "    .dataframe tbody tr th:only-of-type {\n",
       "        vertical-align: middle;\n",
       "    }\n",
       "\n",
       "    .dataframe tbody tr th {\n",
       "        vertical-align: top;\n",
       "    }\n",
       "\n",
       "    .dataframe thead th {\n",
       "        text-align: right;\n",
       "    }\n",
       "</style>\n",
       "<table border=\"1\" class=\"dataframe\">\n",
       "  <thead>\n",
       "    <tr style=\"text-align: right;\">\n",
       "      <th></th>\n",
       "      <th>id</th>\n",
       "      <th>label</th>\n",
       "    </tr>\n",
       "  </thead>\n",
       "  <tbody>\n",
       "    <tr>\n",
       "      <th>0</th>\n",
       "      <td>20800</td>\n",
       "      <td>0</td>\n",
       "    </tr>\n",
       "    <tr>\n",
       "      <th>1</th>\n",
       "      <td>20801</td>\n",
       "      <td>1</td>\n",
       "    </tr>\n",
       "    <tr>\n",
       "      <th>2</th>\n",
       "      <td>20802</td>\n",
       "      <td>0</td>\n",
       "    </tr>\n",
       "    <tr>\n",
       "      <th>3</th>\n",
       "      <td>20803</td>\n",
       "      <td>1</td>\n",
       "    </tr>\n",
       "    <tr>\n",
       "      <th>4</th>\n",
       "      <td>20804</td>\n",
       "      <td>1</td>\n",
       "    </tr>\n",
       "  </tbody>\n",
       "</table>\n",
       "</div>"
      ],
      "text/plain": [
       "      id  label\n",
       "0  20800      0\n",
       "1  20801      1\n",
       "2  20802      0\n",
       "3  20803      1\n",
       "4  20804      1"
      ]
     },
     "execution_count": 56,
     "metadata": {},
     "output_type": "execute_result"
    }
   ],
   "source": [
    "submit.head()"
   ]
  },
  {
   "cell_type": "code",
   "execution_count": 57,
   "id": "0642bf3a",
   "metadata": {
    "execution": {
     "iopub.execute_input": "2022-03-03T18:15:40.882504Z",
     "iopub.status.busy": "2022-03-03T18:15:40.881571Z",
     "iopub.status.idle": "2022-03-03T18:15:40.885505Z",
     "shell.execute_reply": "2022-03-03T18:15:40.886029Z",
     "shell.execute_reply.started": "2022-03-03T18:11:15.942273Z"
    },
    "papermill": {
     "duration": 0.440677,
     "end_time": "2022-03-03T18:15:40.886198",
     "exception": false,
     "start_time": "2022-03-03T18:15:40.445521",
     "status": "completed"
    },
    "tags": []
   },
   "outputs": [],
   "source": [
    "label = pd.DataFrame(a, columns = ['label'])"
   ]
  },
  {
   "cell_type": "code",
   "execution_count": 58,
   "id": "003ae405",
   "metadata": {
    "execution": {
     "iopub.execute_input": "2022-03-03T18:15:41.757613Z",
     "iopub.status.busy": "2022-03-03T18:15:41.756806Z",
     "iopub.status.idle": "2022-03-03T18:15:41.760829Z",
     "shell.execute_reply": "2022-03-03T18:15:41.760307Z",
     "shell.execute_reply.started": "2022-03-03T18:11:15.947902Z"
    },
    "papermill": {
     "duration": 0.443689,
     "end_time": "2022-03-03T18:15:41.760960",
     "exception": false,
     "start_time": "2022-03-03T18:15:41.317271",
     "status": "completed"
    },
    "tags": []
   },
   "outputs": [
    {
     "data": {
      "text/html": [
       "<div>\n",
       "<style scoped>\n",
       "    .dataframe tbody tr th:only-of-type {\n",
       "        vertical-align: middle;\n",
       "    }\n",
       "\n",
       "    .dataframe tbody tr th {\n",
       "        vertical-align: top;\n",
       "    }\n",
       "\n",
       "    .dataframe thead th {\n",
       "        text-align: right;\n",
       "    }\n",
       "</style>\n",
       "<table border=\"1\" class=\"dataframe\">\n",
       "  <thead>\n",
       "    <tr style=\"text-align: right;\">\n",
       "      <th></th>\n",
       "      <th>label</th>\n",
       "    </tr>\n",
       "  </thead>\n",
       "  <tbody>\n",
       "    <tr>\n",
       "      <th>0</th>\n",
       "      <td>0</td>\n",
       "    </tr>\n",
       "    <tr>\n",
       "      <th>1</th>\n",
       "      <td>1</td>\n",
       "    </tr>\n",
       "    <tr>\n",
       "      <th>2</th>\n",
       "      <td>0</td>\n",
       "    </tr>\n",
       "    <tr>\n",
       "      <th>3</th>\n",
       "      <td>0</td>\n",
       "    </tr>\n",
       "    <tr>\n",
       "      <th>4</th>\n",
       "      <td>1</td>\n",
       "    </tr>\n",
       "  </tbody>\n",
       "</table>\n",
       "</div>"
      ],
      "text/plain": [
       "   label\n",
       "0      0\n",
       "1      1\n",
       "2      0\n",
       "3      0\n",
       "4      1"
      ]
     },
     "execution_count": 58,
     "metadata": {},
     "output_type": "execute_result"
    }
   ],
   "source": [
    "label.head()"
   ]
  },
  {
   "cell_type": "code",
   "execution_count": 59,
   "id": "6a995aad",
   "metadata": {
    "execution": {
     "iopub.execute_input": "2022-03-03T18:15:42.634367Z",
     "iopub.status.busy": "2022-03-03T18:15:42.633731Z",
     "iopub.status.idle": "2022-03-03T18:15:42.639952Z",
     "shell.execute_reply": "2022-03-03T18:15:42.639403Z",
     "shell.execute_reply.started": "2022-03-03T18:11:15.958558Z"
    },
    "papermill": {
     "duration": 0.441043,
     "end_time": "2022-03-03T18:15:42.640103",
     "exception": false,
     "start_time": "2022-03-03T18:15:42.199060",
     "status": "completed"
    },
    "tags": []
   },
   "outputs": [],
   "source": [
    "submit.drop('label', inplace = True, axis = 1)"
   ]
  },
  {
   "cell_type": "code",
   "execution_count": 60,
   "id": "cdcd64fe",
   "metadata": {
    "execution": {
     "iopub.execute_input": "2022-03-03T18:15:43.510569Z",
     "iopub.status.busy": "2022-03-03T18:15:43.509695Z",
     "iopub.status.idle": "2022-03-03T18:15:43.512739Z",
     "shell.execute_reply": "2022-03-03T18:15:43.512203Z",
     "shell.execute_reply.started": "2022-03-03T18:11:15.965782Z"
    },
    "papermill": {
     "duration": 0.440619,
     "end_time": "2022-03-03T18:15:43.512904",
     "exception": false,
     "start_time": "2022-03-03T18:15:43.072285",
     "status": "completed"
    },
    "tags": []
   },
   "outputs": [],
   "source": [
    "submit = pd.concat([submit, label], axis = 1)"
   ]
  },
  {
   "cell_type": "code",
   "execution_count": 61,
   "id": "e403a75f",
   "metadata": {
    "execution": {
     "iopub.execute_input": "2022-03-03T18:15:44.385679Z",
     "iopub.status.busy": "2022-03-03T18:15:44.384852Z",
     "iopub.status.idle": "2022-03-03T18:15:44.394070Z",
     "shell.execute_reply": "2022-03-03T18:15:44.394512Z",
     "shell.execute_reply.started": "2022-03-03T18:11:15.973540Z"
    },
    "papermill": {
     "duration": 0.443646,
     "end_time": "2022-03-03T18:15:44.394686",
     "exception": false,
     "start_time": "2022-03-03T18:15:43.951040",
     "status": "completed"
    },
    "tags": []
   },
   "outputs": [
    {
     "data": {
      "text/html": [
       "<div>\n",
       "<style scoped>\n",
       "    .dataframe tbody tr th:only-of-type {\n",
       "        vertical-align: middle;\n",
       "    }\n",
       "\n",
       "    .dataframe tbody tr th {\n",
       "        vertical-align: top;\n",
       "    }\n",
       "\n",
       "    .dataframe thead th {\n",
       "        text-align: right;\n",
       "    }\n",
       "</style>\n",
       "<table border=\"1\" class=\"dataframe\">\n",
       "  <thead>\n",
       "    <tr style=\"text-align: right;\">\n",
       "      <th></th>\n",
       "      <th>id</th>\n",
       "      <th>label</th>\n",
       "    </tr>\n",
       "  </thead>\n",
       "  <tbody>\n",
       "    <tr>\n",
       "      <th>0</th>\n",
       "      <td>20800</td>\n",
       "      <td>0</td>\n",
       "    </tr>\n",
       "    <tr>\n",
       "      <th>1</th>\n",
       "      <td>20801</td>\n",
       "      <td>1</td>\n",
       "    </tr>\n",
       "    <tr>\n",
       "      <th>2</th>\n",
       "      <td>20802</td>\n",
       "      <td>0</td>\n",
       "    </tr>\n",
       "    <tr>\n",
       "      <th>3</th>\n",
       "      <td>20803</td>\n",
       "      <td>0</td>\n",
       "    </tr>\n",
       "    <tr>\n",
       "      <th>4</th>\n",
       "      <td>20804</td>\n",
       "      <td>1</td>\n",
       "    </tr>\n",
       "  </tbody>\n",
       "</table>\n",
       "</div>"
      ],
      "text/plain": [
       "      id  label\n",
       "0  20800      0\n",
       "1  20801      1\n",
       "2  20802      0\n",
       "3  20803      0\n",
       "4  20804      1"
      ]
     },
     "execution_count": 61,
     "metadata": {},
     "output_type": "execute_result"
    }
   ],
   "source": [
    "submit.head()"
   ]
  },
  {
   "cell_type": "code",
   "execution_count": 62,
   "id": "2a39905c",
   "metadata": {
    "execution": {
     "iopub.execute_input": "2022-03-03T18:15:45.271396Z",
     "iopub.status.busy": "2022-03-03T18:15:45.270598Z",
     "iopub.status.idle": "2022-03-03T18:15:45.286083Z",
     "shell.execute_reply": "2022-03-03T18:15:45.286573Z",
     "shell.execute_reply.started": "2022-03-03T18:11:15.985620Z"
    },
    "papermill": {
     "duration": 0.458321,
     "end_time": "2022-03-03T18:15:45.286804",
     "exception": false,
     "start_time": "2022-03-03T18:15:44.828483",
     "status": "completed"
    },
    "tags": []
   },
   "outputs": [],
   "source": [
    "submit.to_csv('submit.csv', index = False)"
   ]
  },
  {
   "cell_type": "code",
   "execution_count": null,
   "id": "eecaa9dc",
   "metadata": {
    "papermill": {
     "duration": 0.470031,
     "end_time": "2022-03-03T18:15:46.193181",
     "exception": false,
     "start_time": "2022-03-03T18:15:45.723150",
     "status": "completed"
    },
    "tags": []
   },
   "outputs": [],
   "source": []
  }
 ],
 "metadata": {
  "kernelspec": {
   "display_name": "Python 3",
   "language": "python",
   "name": "python3"
  },
  "language_info": {
   "codemirror_mode": {
    "name": "ipython",
    "version": 3
   },
   "file_extension": ".py",
   "mimetype": "text/x-python",
   "name": "python",
   "nbconvert_exporter": "python",
   "pygments_lexer": "ipython3",
   "version": "3.7.12"
  },
  "papermill": {
   "default_parameters": {},
   "duration": 210.311903,
   "end_time": "2022-03-03T18:15:49.593157",
   "environment_variables": {},
   "exception": null,
   "input_path": "__notebook__.ipynb",
   "output_path": "__notebook__.ipynb",
   "parameters": {},
   "start_time": "2022-03-03T18:12:19.281254",
   "version": "2.3.3"
  }
 },
 "nbformat": 4,
 "nbformat_minor": 5
}
